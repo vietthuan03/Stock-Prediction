{
  "cells": [
    {
      "cell_type": "code",
      "source": [
        "import yfinance as yf\n",
        "import numpy as np\n",
        "import pandas as pd\n",
        "import matplotlib.pyplot as plt\n",
        "import seaborn as sns\n",
        "import plotly.graph_objects as go\n",
        "import re\n",
        "import csv\n",
        "import statsmodels.tsa.api as smt\n",
        "import statsmodels.api as sm\n",
        "import datetime\n",
        "import warnings\n",
        "warnings.filterwarnings('ignore')\n",
        "\n",
        "%matplotlib inline\n",
        "\n",
        "from pandas import DataFrame\n",
        "\n",
        "from sklearn.linear_model import LinearRegression\n",
        "from sklearn.neighbors import KNeighborsRegressor\n",
        "from sklearn.preprocessing import MinMaxScaler\n",
        "from sklearn.model_selection import GridSearchCV\n",
        "\n",
        "from keras.models import Sequential\n",
        "from keras.layers import Dense, Dropout, LSTM\n",
        "\n",
        "#from pmdarima import auto_arima\n",
        "from prophet import Prophet\n",
        "from prophet.plot import add_changepoints_to_plot\n",
        "\n",
        "from statsmodels.tsa.stattools import adfuller\n",
        "from statsmodels.graphics.tsaplots import plot_acf, plot_pacf\n",
        "from statsmodels.graphics.gofplots import qqplot\n",
        "#from statsmodels.tsa.arima.model import ARIMA\n",
        "#from statsmodels.tsa.statespace.sarimax import SARIMAX\n",
        "from statsmodels.stats.diagnostic import acorr_ljungbox\n",
        "from itertools import product\n",
        "from tqdm.notebook import tqdm\n",
        "from datetime import date, timedelta\n"
      ],
      "metadata": {
        "id": "UtaqPD7GJ-8Q"
      },
      "execution_count": null,
      "outputs": []
    },
    {
      "cell_type": "code",
      "execution_count": null,
      "metadata": {
        "colab": {
          "base_uri": "https://localhost:8080/"
        },
        "id": "f9Czi5c9uDaH",
        "outputId": "c8a9475e-7ac1-4828-adeb-957ac7a0b85f"
      },
      "outputs": [
        {
          "output_type": "stream",
          "name": "stdout",
          "text": [
            "Drive already mounted at /content/drive; to attempt to forcibly remount, call drive.mount(\"/content/drive\", force_remount=True).\n"
          ]
        }
      ],
      "source": [
        "from google.colab import drive\n",
        "drive.mount('/content/drive')"
      ]
    },
    {
      "cell_type": "code",
      "execution_count": null,
      "metadata": {
        "id": "YKxRevadsU9F"
      },
      "outputs": [],
      "source": [
        "path = '/content/drive/MyDrive/Machine Learning//'\n",
        "\n",
        "df = pd.read_csv(path+ 'NESTLEIND.csv')\n"
      ]
    },
    {
      "cell_type": "code",
      "execution_count": null,
      "metadata": {
        "colab": {
          "base_uri": "https://localhost:8080/",
          "height": 310
        },
        "id": "Cl_WByuPs7PB",
        "outputId": "16d57318-5040-4c58-9f8d-30ee6ab68ef0",
        "scrolled": true
      },
      "outputs": [
        {
          "output_type": "execute_result",
          "data": {
            "text/plain": [
              "         Date     Symbol Series  Prev Close     Open    High      Low    Last  \\\n",
              "0  2010-01-08  NESTLEIND     EQ     2512.95  2555.00  2575.0  2475.20  2476.0   \n",
              "1  2010-01-11  NESTLEIND     EQ     2494.65  2401.00  2515.0  2400.00  2500.0   \n",
              "2  2010-01-12  NESTLEIND     EQ     2498.95  2540.00  2540.0  2471.35  2505.0   \n",
              "3  2010-01-13  NESTLEIND     EQ     2502.85  2502.85  2540.0  2480.00  2489.8   \n",
              "4  2010-01-14  NESTLEIND     EQ     2489.35  2535.00  2595.0  2470.00  2560.0   \n",
              "\n",
              "     Close     VWAP  Volume      Turnover  Trades  Deliverable Volume  \\\n",
              "0  2494.65  2529.81     648  1.639316e+11     NaN                 438   \n",
              "1  2498.95  2494.44     825  2.057909e+11     NaN                 638   \n",
              "2  2502.85  2485.22   68346  1.698549e+13     NaN               67695   \n",
              "3  2489.35  2491.94    1032  2.571682e+11     NaN                 718   \n",
              "4  2568.20  2510.27  330361  8.292956e+13     NaN              329193   \n",
              "\n",
              "   %Deliverble  \n",
              "0       0.6759  \n",
              "1       0.7733  \n",
              "2       0.9905  \n",
              "3       0.6957  \n",
              "4       0.9965  "
            ],
            "text/html": [
              "\n",
              "  <div id=\"df-b11e9f27-f114-483f-91f6-611ab2d08bc1\" class=\"colab-df-container\">\n",
              "    <div>\n",
              "<style scoped>\n",
              "    .dataframe tbody tr th:only-of-type {\n",
              "        vertical-align: middle;\n",
              "    }\n",
              "\n",
              "    .dataframe tbody tr th {\n",
              "        vertical-align: top;\n",
              "    }\n",
              "\n",
              "    .dataframe thead th {\n",
              "        text-align: right;\n",
              "    }\n",
              "</style>\n",
              "<table border=\"1\" class=\"dataframe\">\n",
              "  <thead>\n",
              "    <tr style=\"text-align: right;\">\n",
              "      <th></th>\n",
              "      <th>Date</th>\n",
              "      <th>Symbol</th>\n",
              "      <th>Series</th>\n",
              "      <th>Prev Close</th>\n",
              "      <th>Open</th>\n",
              "      <th>High</th>\n",
              "      <th>Low</th>\n",
              "      <th>Last</th>\n",
              "      <th>Close</th>\n",
              "      <th>VWAP</th>\n",
              "      <th>Volume</th>\n",
              "      <th>Turnover</th>\n",
              "      <th>Trades</th>\n",
              "      <th>Deliverable Volume</th>\n",
              "      <th>%Deliverble</th>\n",
              "    </tr>\n",
              "  </thead>\n",
              "  <tbody>\n",
              "    <tr>\n",
              "      <th>0</th>\n",
              "      <td>2010-01-08</td>\n",
              "      <td>NESTLEIND</td>\n",
              "      <td>EQ</td>\n",
              "      <td>2512.95</td>\n",
              "      <td>2555.00</td>\n",
              "      <td>2575.0</td>\n",
              "      <td>2475.20</td>\n",
              "      <td>2476.0</td>\n",
              "      <td>2494.65</td>\n",
              "      <td>2529.81</td>\n",
              "      <td>648</td>\n",
              "      <td>1.639316e+11</td>\n",
              "      <td>NaN</td>\n",
              "      <td>438</td>\n",
              "      <td>0.6759</td>\n",
              "    </tr>\n",
              "    <tr>\n",
              "      <th>1</th>\n",
              "      <td>2010-01-11</td>\n",
              "      <td>NESTLEIND</td>\n",
              "      <td>EQ</td>\n",
              "      <td>2494.65</td>\n",
              "      <td>2401.00</td>\n",
              "      <td>2515.0</td>\n",
              "      <td>2400.00</td>\n",
              "      <td>2500.0</td>\n",
              "      <td>2498.95</td>\n",
              "      <td>2494.44</td>\n",
              "      <td>825</td>\n",
              "      <td>2.057909e+11</td>\n",
              "      <td>NaN</td>\n",
              "      <td>638</td>\n",
              "      <td>0.7733</td>\n",
              "    </tr>\n",
              "    <tr>\n",
              "      <th>2</th>\n",
              "      <td>2010-01-12</td>\n",
              "      <td>NESTLEIND</td>\n",
              "      <td>EQ</td>\n",
              "      <td>2498.95</td>\n",
              "      <td>2540.00</td>\n",
              "      <td>2540.0</td>\n",
              "      <td>2471.35</td>\n",
              "      <td>2505.0</td>\n",
              "      <td>2502.85</td>\n",
              "      <td>2485.22</td>\n",
              "      <td>68346</td>\n",
              "      <td>1.698549e+13</td>\n",
              "      <td>NaN</td>\n",
              "      <td>67695</td>\n",
              "      <td>0.9905</td>\n",
              "    </tr>\n",
              "    <tr>\n",
              "      <th>3</th>\n",
              "      <td>2010-01-13</td>\n",
              "      <td>NESTLEIND</td>\n",
              "      <td>EQ</td>\n",
              "      <td>2502.85</td>\n",
              "      <td>2502.85</td>\n",
              "      <td>2540.0</td>\n",
              "      <td>2480.00</td>\n",
              "      <td>2489.8</td>\n",
              "      <td>2489.35</td>\n",
              "      <td>2491.94</td>\n",
              "      <td>1032</td>\n",
              "      <td>2.571682e+11</td>\n",
              "      <td>NaN</td>\n",
              "      <td>718</td>\n",
              "      <td>0.6957</td>\n",
              "    </tr>\n",
              "    <tr>\n",
              "      <th>4</th>\n",
              "      <td>2010-01-14</td>\n",
              "      <td>NESTLEIND</td>\n",
              "      <td>EQ</td>\n",
              "      <td>2489.35</td>\n",
              "      <td>2535.00</td>\n",
              "      <td>2595.0</td>\n",
              "      <td>2470.00</td>\n",
              "      <td>2560.0</td>\n",
              "      <td>2568.20</td>\n",
              "      <td>2510.27</td>\n",
              "      <td>330361</td>\n",
              "      <td>8.292956e+13</td>\n",
              "      <td>NaN</td>\n",
              "      <td>329193</td>\n",
              "      <td>0.9965</td>\n",
              "    </tr>\n",
              "  </tbody>\n",
              "</table>\n",
              "</div>\n",
              "    <div class=\"colab-df-buttons\">\n",
              "\n",
              "  <div class=\"colab-df-container\">\n",
              "    <button class=\"colab-df-convert\" onclick=\"convertToInteractive('df-b11e9f27-f114-483f-91f6-611ab2d08bc1')\"\n",
              "            title=\"Convert this dataframe to an interactive table.\"\n",
              "            style=\"display:none;\">\n",
              "\n",
              "  <svg xmlns=\"http://www.w3.org/2000/svg\" height=\"24px\" viewBox=\"0 -960 960 960\">\n",
              "    <path d=\"M120-120v-720h720v720H120Zm60-500h600v-160H180v160Zm220 220h160v-160H400v160Zm0 220h160v-160H400v160ZM180-400h160v-160H180v160Zm440 0h160v-160H620v160ZM180-180h160v-160H180v160Zm440 0h160v-160H620v160Z\"/>\n",
              "  </svg>\n",
              "    </button>\n",
              "\n",
              "  <style>\n",
              "    .colab-df-container {\n",
              "      display:flex;\n",
              "      gap: 12px;\n",
              "    }\n",
              "\n",
              "    .colab-df-convert {\n",
              "      background-color: #E8F0FE;\n",
              "      border: none;\n",
              "      border-radius: 50%;\n",
              "      cursor: pointer;\n",
              "      display: none;\n",
              "      fill: #1967D2;\n",
              "      height: 32px;\n",
              "      padding: 0 0 0 0;\n",
              "      width: 32px;\n",
              "    }\n",
              "\n",
              "    .colab-df-convert:hover {\n",
              "      background-color: #E2EBFA;\n",
              "      box-shadow: 0px 1px 2px rgba(60, 64, 67, 0.3), 0px 1px 3px 1px rgba(60, 64, 67, 0.15);\n",
              "      fill: #174EA6;\n",
              "    }\n",
              "\n",
              "    .colab-df-buttons div {\n",
              "      margin-bottom: 4px;\n",
              "    }\n",
              "\n",
              "    [theme=dark] .colab-df-convert {\n",
              "      background-color: #3B4455;\n",
              "      fill: #D2E3FC;\n",
              "    }\n",
              "\n",
              "    [theme=dark] .colab-df-convert:hover {\n",
              "      background-color: #434B5C;\n",
              "      box-shadow: 0px 1px 3px 1px rgba(0, 0, 0, 0.15);\n",
              "      filter: drop-shadow(0px 1px 2px rgba(0, 0, 0, 0.3));\n",
              "      fill: #FFFFFF;\n",
              "    }\n",
              "  </style>\n",
              "\n",
              "    <script>\n",
              "      const buttonEl =\n",
              "        document.querySelector('#df-b11e9f27-f114-483f-91f6-611ab2d08bc1 button.colab-df-convert');\n",
              "      buttonEl.style.display =\n",
              "        google.colab.kernel.accessAllowed ? 'block' : 'none';\n",
              "\n",
              "      async function convertToInteractive(key) {\n",
              "        const element = document.querySelector('#df-b11e9f27-f114-483f-91f6-611ab2d08bc1');\n",
              "        const dataTable =\n",
              "          await google.colab.kernel.invokeFunction('convertToInteractive',\n",
              "                                                    [key], {});\n",
              "        if (!dataTable) return;\n",
              "\n",
              "        const docLinkHtml = 'Like what you see? Visit the ' +\n",
              "          '<a target=\"_blank\" href=https://colab.research.google.com/notebooks/data_table.ipynb>data table notebook</a>'\n",
              "          + ' to learn more about interactive tables.';\n",
              "        element.innerHTML = '';\n",
              "        dataTable['output_type'] = 'display_data';\n",
              "        await google.colab.output.renderOutput(dataTable, element);\n",
              "        const docLink = document.createElement('div');\n",
              "        docLink.innerHTML = docLinkHtml;\n",
              "        element.appendChild(docLink);\n",
              "      }\n",
              "    </script>\n",
              "  </div>\n",
              "\n",
              "\n",
              "<div id=\"df-b2e4a7ba-8f0d-4407-bd65-65babc2cc62e\">\n",
              "  <button class=\"colab-df-quickchart\" onclick=\"quickchart('df-b2e4a7ba-8f0d-4407-bd65-65babc2cc62e')\"\n",
              "            title=\"Suggest charts\"\n",
              "            style=\"display:none;\">\n",
              "\n",
              "<svg xmlns=\"http://www.w3.org/2000/svg\" height=\"24px\"viewBox=\"0 0 24 24\"\n",
              "     width=\"24px\">\n",
              "    <g>\n",
              "        <path d=\"M19 3H5c-1.1 0-2 .9-2 2v14c0 1.1.9 2 2 2h14c1.1 0 2-.9 2-2V5c0-1.1-.9-2-2-2zM9 17H7v-7h2v7zm4 0h-2V7h2v10zm4 0h-2v-4h2v4z\"/>\n",
              "    </g>\n",
              "</svg>\n",
              "  </button>\n",
              "\n",
              "<style>\n",
              "  .colab-df-quickchart {\n",
              "      --bg-color: #E8F0FE;\n",
              "      --fill-color: #1967D2;\n",
              "      --hover-bg-color: #E2EBFA;\n",
              "      --hover-fill-color: #174EA6;\n",
              "      --disabled-fill-color: #AAA;\n",
              "      --disabled-bg-color: #DDD;\n",
              "  }\n",
              "\n",
              "  [theme=dark] .colab-df-quickchart {\n",
              "      --bg-color: #3B4455;\n",
              "      --fill-color: #D2E3FC;\n",
              "      --hover-bg-color: #434B5C;\n",
              "      --hover-fill-color: #FFFFFF;\n",
              "      --disabled-bg-color: #3B4455;\n",
              "      --disabled-fill-color: #666;\n",
              "  }\n",
              "\n",
              "  .colab-df-quickchart {\n",
              "    background-color: var(--bg-color);\n",
              "    border: none;\n",
              "    border-radius: 50%;\n",
              "    cursor: pointer;\n",
              "    display: none;\n",
              "    fill: var(--fill-color);\n",
              "    height: 32px;\n",
              "    padding: 0;\n",
              "    width: 32px;\n",
              "  }\n",
              "\n",
              "  .colab-df-quickchart:hover {\n",
              "    background-color: var(--hover-bg-color);\n",
              "    box-shadow: 0 1px 2px rgba(60, 64, 67, 0.3), 0 1px 3px 1px rgba(60, 64, 67, 0.15);\n",
              "    fill: var(--button-hover-fill-color);\n",
              "  }\n",
              "\n",
              "  .colab-df-quickchart-complete:disabled,\n",
              "  .colab-df-quickchart-complete:disabled:hover {\n",
              "    background-color: var(--disabled-bg-color);\n",
              "    fill: var(--disabled-fill-color);\n",
              "    box-shadow: none;\n",
              "  }\n",
              "\n",
              "  .colab-df-spinner {\n",
              "    border: 2px solid var(--fill-color);\n",
              "    border-color: transparent;\n",
              "    border-bottom-color: var(--fill-color);\n",
              "    animation:\n",
              "      spin 1s steps(1) infinite;\n",
              "  }\n",
              "\n",
              "  @keyframes spin {\n",
              "    0% {\n",
              "      border-color: transparent;\n",
              "      border-bottom-color: var(--fill-color);\n",
              "      border-left-color: var(--fill-color);\n",
              "    }\n",
              "    20% {\n",
              "      border-color: transparent;\n",
              "      border-left-color: var(--fill-color);\n",
              "      border-top-color: var(--fill-color);\n",
              "    }\n",
              "    30% {\n",
              "      border-color: transparent;\n",
              "      border-left-color: var(--fill-color);\n",
              "      border-top-color: var(--fill-color);\n",
              "      border-right-color: var(--fill-color);\n",
              "    }\n",
              "    40% {\n",
              "      border-color: transparent;\n",
              "      border-right-color: var(--fill-color);\n",
              "      border-top-color: var(--fill-color);\n",
              "    }\n",
              "    60% {\n",
              "      border-color: transparent;\n",
              "      border-right-color: var(--fill-color);\n",
              "    }\n",
              "    80% {\n",
              "      border-color: transparent;\n",
              "      border-right-color: var(--fill-color);\n",
              "      border-bottom-color: var(--fill-color);\n",
              "    }\n",
              "    90% {\n",
              "      border-color: transparent;\n",
              "      border-bottom-color: var(--fill-color);\n",
              "    }\n",
              "  }\n",
              "</style>\n",
              "\n",
              "  <script>\n",
              "    async function quickchart(key) {\n",
              "      const quickchartButtonEl =\n",
              "        document.querySelector('#' + key + ' button');\n",
              "      quickchartButtonEl.disabled = true;  // To prevent multiple clicks.\n",
              "      quickchartButtonEl.classList.add('colab-df-spinner');\n",
              "      try {\n",
              "        const charts = await google.colab.kernel.invokeFunction(\n",
              "            'suggestCharts', [key], {});\n",
              "      } catch (error) {\n",
              "        console.error('Error during call to suggestCharts:', error);\n",
              "      }\n",
              "      quickchartButtonEl.classList.remove('colab-df-spinner');\n",
              "      quickchartButtonEl.classList.add('colab-df-quickchart-complete');\n",
              "    }\n",
              "    (() => {\n",
              "      let quickchartButtonEl =\n",
              "        document.querySelector('#df-b2e4a7ba-8f0d-4407-bd65-65babc2cc62e button');\n",
              "      quickchartButtonEl.style.display =\n",
              "        google.colab.kernel.accessAllowed ? 'block' : 'none';\n",
              "    })();\n",
              "  </script>\n",
              "</div>\n",
              "\n",
              "    </div>\n",
              "  </div>\n"
            ],
            "application/vnd.google.colaboratory.intrinsic+json": {
              "type": "dataframe",
              "variable_name": "df",
              "summary": "{\n  \"name\": \"df\",\n  \"rows\": 2806,\n  \"fields\": [\n    {\n      \"column\": \"Date\",\n      \"properties\": {\n        \"dtype\": \"object\",\n        \"num_unique_values\": 2806,\n        \"samples\": [\n          \"2020-05-21\",\n          \"2020-10-12\",\n          \"2016-05-25\"\n        ],\n        \"semantic_type\": \"\",\n        \"description\": \"\"\n      }\n    },\n    {\n      \"column\": \"Symbol\",\n      \"properties\": {\n        \"dtype\": \"category\",\n        \"num_unique_values\": 1,\n        \"samples\": [\n          \"NESTLEIND\"\n        ],\n        \"semantic_type\": \"\",\n        \"description\": \"\"\n      }\n    },\n    {\n      \"column\": \"Series\",\n      \"properties\": {\n        \"dtype\": \"category\",\n        \"num_unique_values\": 1,\n        \"samples\": [\n          \"EQ\"\n        ],\n        \"semantic_type\": \"\",\n        \"description\": \"\"\n      }\n    },\n    {\n      \"column\": \"Prev Close\",\n      \"properties\": {\n        \"dtype\": \"number\",\n        \"std\": 4180.4687267799645,\n        \"min\": 2489.35,\n        \"max\": 18732.7,\n        \"num_unique_values\": 2783,\n        \"samples\": [\n          4037.95\n        ],\n        \"semantic_type\": \"\",\n        \"description\": \"\"\n      }\n    },\n    {\n      \"column\": \"Open\",\n      \"properties\": {\n        \"dtype\": \"number\",\n        \"std\": 4189.232067389974,\n        \"min\": 2295.0,\n        \"max\": 18844.0,\n        \"num_unique_values\": 2387,\n        \"samples\": [\n          13424.0\n        ],\n        \"semantic_type\": \"\",\n        \"description\": \"\"\n      }\n    },\n    {\n      \"column\": \"High\",\n      \"properties\": {\n        \"dtype\": \"number\",\n        \"std\": 4234.100795935788,\n        \"min\": 2515.0,\n        \"max\": 18844.0,\n        \"num_unique_values\": 2415,\n        \"samples\": [\n          4260.0\n        ],\n        \"semantic_type\": \"\",\n        \"description\": \"\"\n      }\n    },\n    {\n      \"column\": \"Low\",\n      \"properties\": {\n        \"dtype\": \"number\",\n        \"std\": 4133.100644912601,\n        \"min\": 2295.0,\n        \"max\": 18520.0,\n        \"num_unique_values\": 2466,\n        \"samples\": [\n          7100.0\n        ],\n        \"semantic_type\": \"\",\n        \"description\": \"\"\n      }\n    },\n    {\n      \"column\": \"Last\",\n      \"properties\": {\n        \"dtype\": \"number\",\n        \"std\": 4182.25085161749,\n        \"min\": 2476.0,\n        \"max\": 18720.0,\n        \"num_unique_values\": 2303,\n        \"samples\": [\n          6464.25\n        ],\n        \"semantic_type\": \"\",\n        \"description\": \"\"\n      }\n    },\n    {\n      \"column\": \"Close\",\n      \"properties\": {\n        \"dtype\": \"number\",\n        \"std\": 4182.7053314478835,\n        \"min\": 2489.35,\n        \"max\": 18732.7,\n        \"num_unique_values\": 2783,\n        \"samples\": [\n          4075.35\n        ],\n        \"semantic_type\": \"\",\n        \"description\": \"\"\n      }\n    },\n    {\n      \"column\": \"VWAP\",\n      \"properties\": {\n        \"dtype\": \"number\",\n        \"std\": 4182.857682184493,\n        \"min\": 2485.22,\n        \"max\": 18683.52,\n        \"num_unique_values\": 2799,\n        \"samples\": [\n          4735.19\n        ],\n        \"semantic_type\": \"\",\n        \"description\": \"\"\n      }\n    },\n    {\n      \"column\": \"Volume\",\n      \"properties\": {\n        \"dtype\": \"number\",\n        \"std\": 69255,\n        \"min\": 33,\n        \"max\": 1106746,\n        \"num_unique_values\": 2770,\n        \"samples\": [\n          15826\n        ],\n        \"semantic_type\": \"\",\n        \"description\": \"\"\n      }\n    },\n    {\n      \"column\": \"Turnover\",\n      \"properties\": {\n        \"dtype\": \"number\",\n        \"std\": 95540947857090.98,\n        \"min\": 8376445000.0,\n        \"max\": 1979044099645000.0,\n        \"num_unique_values\": 2806,\n        \"samples\": [\n          198153141460000.0\n        ],\n        \"semantic_type\": \"\",\n        \"description\": \"\"\n      }\n    },\n    {\n      \"column\": \"Trades\",\n      \"properties\": {\n        \"dtype\": \"number\",\n        \"std\": 12405.830783804466,\n        \"min\": 63.0,\n        \"max\": 122364.0,\n        \"num_unique_values\": 2306,\n        \"samples\": [\n          13399.0\n        ],\n        \"semantic_type\": \"\",\n        \"description\": \"\"\n      }\n    },\n    {\n      \"column\": \"Deliverable Volume\",\n      \"properties\": {\n        \"dtype\": \"number\",\n        \"std\": 45266,\n        \"min\": 32,\n        \"max\": 929598,\n        \"num_unique_values\": 2751,\n        \"samples\": [\n          33908\n        ],\n        \"semantic_type\": \"\",\n        \"description\": \"\"\n      }\n    },\n    {\n      \"column\": \"%Deliverble\",\n      \"properties\": {\n        \"dtype\": \"number\",\n        \"std\": 0.1626087850446793,\n        \"min\": 0.131,\n        \"max\": 0.9965,\n        \"num_unique_values\": 2246,\n        \"samples\": [\n          0.8309000000000001\n        ],\n        \"semantic_type\": \"\",\n        \"description\": \"\"\n      }\n    }\n  ]\n}"
            }
          },
          "metadata": {},
          "execution_count": 55
        }
      ],
      "source": [
        "# data.drop(columns=['symbol'], inplace=True)\n",
        "df.head()"
      ]
    },
    {
      "cell_type": "code",
      "execution_count": null,
      "metadata": {
        "colab": {
          "base_uri": "https://localhost:8080/",
          "height": 34
        },
        "id": "RltZyV5TmLWV",
        "outputId": "7f84b596-d397-405f-fd8c-cb02539e6fbe"
      },
      "outputs": [
        {
          "output_type": "display_data",
          "data": {
            "text/plain": [
              "(2806, 15)"
            ]
          },
          "metadata": {}
        }
      ],
      "source": [
        "display(df.shape)"
      ]
    },
    {
      "cell_type": "code",
      "execution_count": null,
      "metadata": {
        "colab": {
          "base_uri": "https://localhost:8080/"
        },
        "id": "JbnZQq6vwVH5",
        "outputId": "4ef56359-92d1-47c8-e36a-584f7d956193"
      },
      "outputs": [
        {
          "output_type": "stream",
          "name": "stdout",
          "text": [
            "<class 'pandas.core.frame.DataFrame'>\n",
            "RangeIndex: 2806 entries, 0 to 2805\n",
            "Data columns (total 15 columns):\n",
            " #   Column              Non-Null Count  Dtype  \n",
            "---  ------              --------------  -----  \n",
            " 0   Date                2806 non-null   object \n",
            " 1   Symbol              2806 non-null   object \n",
            " 2   Series              2806 non-null   object \n",
            " 3   Prev Close          2806 non-null   float64\n",
            " 4   Open                2806 non-null   float64\n",
            " 5   High                2806 non-null   float64\n",
            " 6   Low                 2806 non-null   float64\n",
            " 7   Last                2806 non-null   float64\n",
            " 8   Close               2806 non-null   float64\n",
            " 9   VWAP                2806 non-null   float64\n",
            " 10  Volume              2806 non-null   int64  \n",
            " 11  Turnover            2806 non-null   float64\n",
            " 12  Trades              2456 non-null   float64\n",
            " 13  Deliverable Volume  2806 non-null   int64  \n",
            " 14  %Deliverble         2806 non-null   float64\n",
            "dtypes: float64(10), int64(2), object(3)\n",
            "memory usage: 329.0+ KB\n"
          ]
        }
      ],
      "source": [
        "df.info()"
      ]
    },
    {
      "cell_type": "code",
      "execution_count": null,
      "metadata": {
        "colab": {
          "base_uri": "https://localhost:8080/"
        },
        "id": "6llvzFZovp-C",
        "outputId": "ed61b9c0-7790-42dd-c5f9-e2f9425e9831"
      },
      "outputs": [
        {
          "output_type": "stream",
          "name": "stdout",
          "text": [
            "<class 'pandas.core.frame.DataFrame'>\n",
            "Index: 2456 entries, 350 to 2805\n",
            "Data columns (total 15 columns):\n",
            " #   Column              Non-Null Count  Dtype         \n",
            "---  ------              --------------  -----         \n",
            " 0   Date                2456 non-null   datetime64[ns]\n",
            " 1   Symbol              2456 non-null   object        \n",
            " 2   Series              2456 non-null   object        \n",
            " 3   Prev Close          2456 non-null   float64       \n",
            " 4   Open                2456 non-null   float64       \n",
            " 5   High                2456 non-null   float64       \n",
            " 6   Low                 2456 non-null   float64       \n",
            " 7   Last                2456 non-null   float64       \n",
            " 8   Close               2456 non-null   float64       \n",
            " 9   VWAP                2456 non-null   float64       \n",
            " 10  Volume              2456 non-null   int64         \n",
            " 11  Turnover            2456 non-null   float64       \n",
            " 12  Trades              2456 non-null   float64       \n",
            " 13  Deliverable Volume  2456 non-null   int64         \n",
            " 14  %Deliverble         2456 non-null   float64       \n",
            "dtypes: datetime64[ns](1), float64(10), int64(2), object(2)\n",
            "memory usage: 307.0+ KB\n"
          ]
        }
      ],
      "source": [
        "# Chuyển đổi cột Date thành định dạng datetime\n",
        "df['Date'] = pd.to_datetime(df['Date'])\n",
        "\n",
        "# Loại các giá trị chứa NaN\n",
        "df = df.dropna()\n",
        "df = df.dropna(axis=1)\n",
        "# Kiểm tra lại dữ liệu sau khi làm sạch\n",
        "df.info()\n"
      ]
    },
    {
      "cell_type": "code",
      "execution_count": null,
      "metadata": {
        "colab": {
          "base_uri": "https://localhost:8080/",
          "height": 310
        },
        "id": "5qOlC8Eaw0RO",
        "outputId": "683943b3-50b6-4076-d33b-818ff614ac59"
      },
      "outputs": [
        {
          "output_type": "execute_result",
          "data": {
            "text/plain": [
              "          Date     Symbol Series  Prev Close    Open     High     Low    Last  \\\n",
              "350 2011-06-01  NESTLEIND     EQ     4059.30  4065.1  4134.00  4065.0  4103.0   \n",
              "351 2011-06-02  NESTLEIND     EQ     4104.45  4070.0  4139.00  4060.1  4102.0   \n",
              "352 2011-06-03  NESTLEIND     EQ     4105.20  4120.0  4140.75  4088.0  4090.1   \n",
              "353 2011-06-06  NESTLEIND     EQ     4093.25  4130.0  4150.00  4072.1  4140.0   \n",
              "354 2011-06-07  NESTLEIND     EQ     4141.25  4149.0  4173.90  4106.3  4161.0   \n",
              "\n",
              "       Close     VWAP  Volume      Turnover  Trades  Deliverable Volume  \\\n",
              "350  4104.45  4083.00   24513  1.000865e+13  1265.0               18592   \n",
              "351  4105.20  4112.36    8774  3.608181e+12  1434.0                5033   \n",
              "352  4093.25  4107.22    3699  1.519259e+12  1046.0                2146   \n",
              "353  4141.25  4129.71    7083  2.925075e+12  1570.0                4110   \n",
              "354  4165.10  4142.66    7831  3.244117e+12  1193.0                5865   \n",
              "\n",
              "     %Deliverble  \n",
              "350       0.7585  \n",
              "351       0.5736  \n",
              "352       0.5802  \n",
              "353       0.5803  \n",
              "354       0.7489  "
            ],
            "text/html": [
              "\n",
              "  <div id=\"df-99d56c2f-6bbf-471b-94b7-9746fa4915b3\" class=\"colab-df-container\">\n",
              "    <div>\n",
              "<style scoped>\n",
              "    .dataframe tbody tr th:only-of-type {\n",
              "        vertical-align: middle;\n",
              "    }\n",
              "\n",
              "    .dataframe tbody tr th {\n",
              "        vertical-align: top;\n",
              "    }\n",
              "\n",
              "    .dataframe thead th {\n",
              "        text-align: right;\n",
              "    }\n",
              "</style>\n",
              "<table border=\"1\" class=\"dataframe\">\n",
              "  <thead>\n",
              "    <tr style=\"text-align: right;\">\n",
              "      <th></th>\n",
              "      <th>Date</th>\n",
              "      <th>Symbol</th>\n",
              "      <th>Series</th>\n",
              "      <th>Prev Close</th>\n",
              "      <th>Open</th>\n",
              "      <th>High</th>\n",
              "      <th>Low</th>\n",
              "      <th>Last</th>\n",
              "      <th>Close</th>\n",
              "      <th>VWAP</th>\n",
              "      <th>Volume</th>\n",
              "      <th>Turnover</th>\n",
              "      <th>Trades</th>\n",
              "      <th>Deliverable Volume</th>\n",
              "      <th>%Deliverble</th>\n",
              "    </tr>\n",
              "  </thead>\n",
              "  <tbody>\n",
              "    <tr>\n",
              "      <th>350</th>\n",
              "      <td>2011-06-01</td>\n",
              "      <td>NESTLEIND</td>\n",
              "      <td>EQ</td>\n",
              "      <td>4059.30</td>\n",
              "      <td>4065.1</td>\n",
              "      <td>4134.00</td>\n",
              "      <td>4065.0</td>\n",
              "      <td>4103.0</td>\n",
              "      <td>4104.45</td>\n",
              "      <td>4083.00</td>\n",
              "      <td>24513</td>\n",
              "      <td>1.000865e+13</td>\n",
              "      <td>1265.0</td>\n",
              "      <td>18592</td>\n",
              "      <td>0.7585</td>\n",
              "    </tr>\n",
              "    <tr>\n",
              "      <th>351</th>\n",
              "      <td>2011-06-02</td>\n",
              "      <td>NESTLEIND</td>\n",
              "      <td>EQ</td>\n",
              "      <td>4104.45</td>\n",
              "      <td>4070.0</td>\n",
              "      <td>4139.00</td>\n",
              "      <td>4060.1</td>\n",
              "      <td>4102.0</td>\n",
              "      <td>4105.20</td>\n",
              "      <td>4112.36</td>\n",
              "      <td>8774</td>\n",
              "      <td>3.608181e+12</td>\n",
              "      <td>1434.0</td>\n",
              "      <td>5033</td>\n",
              "      <td>0.5736</td>\n",
              "    </tr>\n",
              "    <tr>\n",
              "      <th>352</th>\n",
              "      <td>2011-06-03</td>\n",
              "      <td>NESTLEIND</td>\n",
              "      <td>EQ</td>\n",
              "      <td>4105.20</td>\n",
              "      <td>4120.0</td>\n",
              "      <td>4140.75</td>\n",
              "      <td>4088.0</td>\n",
              "      <td>4090.1</td>\n",
              "      <td>4093.25</td>\n",
              "      <td>4107.22</td>\n",
              "      <td>3699</td>\n",
              "      <td>1.519259e+12</td>\n",
              "      <td>1046.0</td>\n",
              "      <td>2146</td>\n",
              "      <td>0.5802</td>\n",
              "    </tr>\n",
              "    <tr>\n",
              "      <th>353</th>\n",
              "      <td>2011-06-06</td>\n",
              "      <td>NESTLEIND</td>\n",
              "      <td>EQ</td>\n",
              "      <td>4093.25</td>\n",
              "      <td>4130.0</td>\n",
              "      <td>4150.00</td>\n",
              "      <td>4072.1</td>\n",
              "      <td>4140.0</td>\n",
              "      <td>4141.25</td>\n",
              "      <td>4129.71</td>\n",
              "      <td>7083</td>\n",
              "      <td>2.925075e+12</td>\n",
              "      <td>1570.0</td>\n",
              "      <td>4110</td>\n",
              "      <td>0.5803</td>\n",
              "    </tr>\n",
              "    <tr>\n",
              "      <th>354</th>\n",
              "      <td>2011-06-07</td>\n",
              "      <td>NESTLEIND</td>\n",
              "      <td>EQ</td>\n",
              "      <td>4141.25</td>\n",
              "      <td>4149.0</td>\n",
              "      <td>4173.90</td>\n",
              "      <td>4106.3</td>\n",
              "      <td>4161.0</td>\n",
              "      <td>4165.10</td>\n",
              "      <td>4142.66</td>\n",
              "      <td>7831</td>\n",
              "      <td>3.244117e+12</td>\n",
              "      <td>1193.0</td>\n",
              "      <td>5865</td>\n",
              "      <td>0.7489</td>\n",
              "    </tr>\n",
              "  </tbody>\n",
              "</table>\n",
              "</div>\n",
              "    <div class=\"colab-df-buttons\">\n",
              "\n",
              "  <div class=\"colab-df-container\">\n",
              "    <button class=\"colab-df-convert\" onclick=\"convertToInteractive('df-99d56c2f-6bbf-471b-94b7-9746fa4915b3')\"\n",
              "            title=\"Convert this dataframe to an interactive table.\"\n",
              "            style=\"display:none;\">\n",
              "\n",
              "  <svg xmlns=\"http://www.w3.org/2000/svg\" height=\"24px\" viewBox=\"0 -960 960 960\">\n",
              "    <path d=\"M120-120v-720h720v720H120Zm60-500h600v-160H180v160Zm220 220h160v-160H400v160Zm0 220h160v-160H400v160ZM180-400h160v-160H180v160Zm440 0h160v-160H620v160ZM180-180h160v-160H180v160Zm440 0h160v-160H620v160Z\"/>\n",
              "  </svg>\n",
              "    </button>\n",
              "\n",
              "  <style>\n",
              "    .colab-df-container {\n",
              "      display:flex;\n",
              "      gap: 12px;\n",
              "    }\n",
              "\n",
              "    .colab-df-convert {\n",
              "      background-color: #E8F0FE;\n",
              "      border: none;\n",
              "      border-radius: 50%;\n",
              "      cursor: pointer;\n",
              "      display: none;\n",
              "      fill: #1967D2;\n",
              "      height: 32px;\n",
              "      padding: 0 0 0 0;\n",
              "      width: 32px;\n",
              "    }\n",
              "\n",
              "    .colab-df-convert:hover {\n",
              "      background-color: #E2EBFA;\n",
              "      box-shadow: 0px 1px 2px rgba(60, 64, 67, 0.3), 0px 1px 3px 1px rgba(60, 64, 67, 0.15);\n",
              "      fill: #174EA6;\n",
              "    }\n",
              "\n",
              "    .colab-df-buttons div {\n",
              "      margin-bottom: 4px;\n",
              "    }\n",
              "\n",
              "    [theme=dark] .colab-df-convert {\n",
              "      background-color: #3B4455;\n",
              "      fill: #D2E3FC;\n",
              "    }\n",
              "\n",
              "    [theme=dark] .colab-df-convert:hover {\n",
              "      background-color: #434B5C;\n",
              "      box-shadow: 0px 1px 3px 1px rgba(0, 0, 0, 0.15);\n",
              "      filter: drop-shadow(0px 1px 2px rgba(0, 0, 0, 0.3));\n",
              "      fill: #FFFFFF;\n",
              "    }\n",
              "  </style>\n",
              "\n",
              "    <script>\n",
              "      const buttonEl =\n",
              "        document.querySelector('#df-99d56c2f-6bbf-471b-94b7-9746fa4915b3 button.colab-df-convert');\n",
              "      buttonEl.style.display =\n",
              "        google.colab.kernel.accessAllowed ? 'block' : 'none';\n",
              "\n",
              "      async function convertToInteractive(key) {\n",
              "        const element = document.querySelector('#df-99d56c2f-6bbf-471b-94b7-9746fa4915b3');\n",
              "        const dataTable =\n",
              "          await google.colab.kernel.invokeFunction('convertToInteractive',\n",
              "                                                    [key], {});\n",
              "        if (!dataTable) return;\n",
              "\n",
              "        const docLinkHtml = 'Like what you see? Visit the ' +\n",
              "          '<a target=\"_blank\" href=https://colab.research.google.com/notebooks/data_table.ipynb>data table notebook</a>'\n",
              "          + ' to learn more about interactive tables.';\n",
              "        element.innerHTML = '';\n",
              "        dataTable['output_type'] = 'display_data';\n",
              "        await google.colab.output.renderOutput(dataTable, element);\n",
              "        const docLink = document.createElement('div');\n",
              "        docLink.innerHTML = docLinkHtml;\n",
              "        element.appendChild(docLink);\n",
              "      }\n",
              "    </script>\n",
              "  </div>\n",
              "\n",
              "\n",
              "<div id=\"df-8496cfae-c1e6-4c91-99f0-adb255ef0f9a\">\n",
              "  <button class=\"colab-df-quickchart\" onclick=\"quickchart('df-8496cfae-c1e6-4c91-99f0-adb255ef0f9a')\"\n",
              "            title=\"Suggest charts\"\n",
              "            style=\"display:none;\">\n",
              "\n",
              "<svg xmlns=\"http://www.w3.org/2000/svg\" height=\"24px\"viewBox=\"0 0 24 24\"\n",
              "     width=\"24px\">\n",
              "    <g>\n",
              "        <path d=\"M19 3H5c-1.1 0-2 .9-2 2v14c0 1.1.9 2 2 2h14c1.1 0 2-.9 2-2V5c0-1.1-.9-2-2-2zM9 17H7v-7h2v7zm4 0h-2V7h2v10zm4 0h-2v-4h2v4z\"/>\n",
              "    </g>\n",
              "</svg>\n",
              "  </button>\n",
              "\n",
              "<style>\n",
              "  .colab-df-quickchart {\n",
              "      --bg-color: #E8F0FE;\n",
              "      --fill-color: #1967D2;\n",
              "      --hover-bg-color: #E2EBFA;\n",
              "      --hover-fill-color: #174EA6;\n",
              "      --disabled-fill-color: #AAA;\n",
              "      --disabled-bg-color: #DDD;\n",
              "  }\n",
              "\n",
              "  [theme=dark] .colab-df-quickchart {\n",
              "      --bg-color: #3B4455;\n",
              "      --fill-color: #D2E3FC;\n",
              "      --hover-bg-color: #434B5C;\n",
              "      --hover-fill-color: #FFFFFF;\n",
              "      --disabled-bg-color: #3B4455;\n",
              "      --disabled-fill-color: #666;\n",
              "  }\n",
              "\n",
              "  .colab-df-quickchart {\n",
              "    background-color: var(--bg-color);\n",
              "    border: none;\n",
              "    border-radius: 50%;\n",
              "    cursor: pointer;\n",
              "    display: none;\n",
              "    fill: var(--fill-color);\n",
              "    height: 32px;\n",
              "    padding: 0;\n",
              "    width: 32px;\n",
              "  }\n",
              "\n",
              "  .colab-df-quickchart:hover {\n",
              "    background-color: var(--hover-bg-color);\n",
              "    box-shadow: 0 1px 2px rgba(60, 64, 67, 0.3), 0 1px 3px 1px rgba(60, 64, 67, 0.15);\n",
              "    fill: var(--button-hover-fill-color);\n",
              "  }\n",
              "\n",
              "  .colab-df-quickchart-complete:disabled,\n",
              "  .colab-df-quickchart-complete:disabled:hover {\n",
              "    background-color: var(--disabled-bg-color);\n",
              "    fill: var(--disabled-fill-color);\n",
              "    box-shadow: none;\n",
              "  }\n",
              "\n",
              "  .colab-df-spinner {\n",
              "    border: 2px solid var(--fill-color);\n",
              "    border-color: transparent;\n",
              "    border-bottom-color: var(--fill-color);\n",
              "    animation:\n",
              "      spin 1s steps(1) infinite;\n",
              "  }\n",
              "\n",
              "  @keyframes spin {\n",
              "    0% {\n",
              "      border-color: transparent;\n",
              "      border-bottom-color: var(--fill-color);\n",
              "      border-left-color: var(--fill-color);\n",
              "    }\n",
              "    20% {\n",
              "      border-color: transparent;\n",
              "      border-left-color: var(--fill-color);\n",
              "      border-top-color: var(--fill-color);\n",
              "    }\n",
              "    30% {\n",
              "      border-color: transparent;\n",
              "      border-left-color: var(--fill-color);\n",
              "      border-top-color: var(--fill-color);\n",
              "      border-right-color: var(--fill-color);\n",
              "    }\n",
              "    40% {\n",
              "      border-color: transparent;\n",
              "      border-right-color: var(--fill-color);\n",
              "      border-top-color: var(--fill-color);\n",
              "    }\n",
              "    60% {\n",
              "      border-color: transparent;\n",
              "      border-right-color: var(--fill-color);\n",
              "    }\n",
              "    80% {\n",
              "      border-color: transparent;\n",
              "      border-right-color: var(--fill-color);\n",
              "      border-bottom-color: var(--fill-color);\n",
              "    }\n",
              "    90% {\n",
              "      border-color: transparent;\n",
              "      border-bottom-color: var(--fill-color);\n",
              "    }\n",
              "  }\n",
              "</style>\n",
              "\n",
              "  <script>\n",
              "    async function quickchart(key) {\n",
              "      const quickchartButtonEl =\n",
              "        document.querySelector('#' + key + ' button');\n",
              "      quickchartButtonEl.disabled = true;  // To prevent multiple clicks.\n",
              "      quickchartButtonEl.classList.add('colab-df-spinner');\n",
              "      try {\n",
              "        const charts = await google.colab.kernel.invokeFunction(\n",
              "            'suggestCharts', [key], {});\n",
              "      } catch (error) {\n",
              "        console.error('Error during call to suggestCharts:', error);\n",
              "      }\n",
              "      quickchartButtonEl.classList.remove('colab-df-spinner');\n",
              "      quickchartButtonEl.classList.add('colab-df-quickchart-complete');\n",
              "    }\n",
              "    (() => {\n",
              "      let quickchartButtonEl =\n",
              "        document.querySelector('#df-8496cfae-c1e6-4c91-99f0-adb255ef0f9a button');\n",
              "      quickchartButtonEl.style.display =\n",
              "        google.colab.kernel.accessAllowed ? 'block' : 'none';\n",
              "    })();\n",
              "  </script>\n",
              "</div>\n",
              "\n",
              "    </div>\n",
              "  </div>\n"
            ],
            "application/vnd.google.colaboratory.intrinsic+json": {
              "type": "dataframe",
              "variable_name": "df",
              "summary": "{\n  \"name\": \"df\",\n  \"rows\": 2456,\n  \"fields\": [\n    {\n      \"column\": \"Date\",\n      \"properties\": {\n        \"dtype\": \"date\",\n        \"min\": \"2011-06-01 00:00:00\",\n        \"max\": \"2021-04-30 00:00:00\",\n        \"num_unique_values\": 2456,\n        \"samples\": [\n          \"2016-09-12 00:00:00\",\n          \"2013-11-26 00:00:00\",\n          \"2018-11-27 00:00:00\"\n        ],\n        \"semantic_type\": \"\",\n        \"description\": \"\"\n      }\n    },\n    {\n      \"column\": \"Symbol\",\n      \"properties\": {\n        \"dtype\": \"category\",\n        \"num_unique_values\": 1,\n        \"samples\": [\n          \"NESTLEIND\"\n        ],\n        \"semantic_type\": \"\",\n        \"description\": \"\"\n      }\n    },\n    {\n      \"column\": \"Series\",\n      \"properties\": {\n        \"dtype\": \"category\",\n        \"num_unique_values\": 1,\n        \"samples\": [\n          \"EQ\"\n        ],\n        \"semantic_type\": \"\",\n        \"description\": \"\"\n      }\n    },\n    {\n      \"column\": \"Prev Close\",\n      \"properties\": {\n        \"dtype\": \"number\",\n        \"std\": 4117.431773263395,\n        \"min\": 3887.9,\n        \"max\": 18732.7,\n        \"num_unique_values\": 2435,\n        \"samples\": [\n          14685.85\n        ],\n        \"semantic_type\": \"\",\n        \"description\": \"\"\n      }\n    },\n    {\n      \"column\": \"Open\",\n      \"properties\": {\n        \"dtype\": \"number\",\n        \"std\": 4126.472833916156,\n        \"min\": 3879.0,\n        \"max\": 18844.0,\n        \"num_unique_values\": 2076,\n        \"samples\": [\n          4698.9\n        ],\n        \"semantic_type\": \"\",\n        \"description\": \"\"\n      }\n    },\n    {\n      \"column\": \"High\",\n      \"properties\": {\n        \"dtype\": \"number\",\n        \"std\": 4172.316441039753,\n        \"min\": 3936.9,\n        \"max\": 18844.0,\n        \"num_unique_values\": 2122,\n        \"samples\": [\n          9898.6\n        ],\n        \"semantic_type\": \"\",\n        \"description\": \"\"\n      }\n    },\n    {\n      \"column\": \"Low\",\n      \"properties\": {\n        \"dtype\": \"number\",\n        \"std\": 4069.4228775752063,\n        \"min\": 3855.0,\n        \"max\": 18520.0,\n        \"num_unique_values\": 2160,\n        \"samples\": [\n          18250.15\n        ],\n        \"semantic_type\": \"\",\n        \"description\": \"\"\n      }\n    },\n    {\n      \"column\": \"Last\",\n      \"properties\": {\n        \"dtype\": \"number\",\n        \"std\": 4119.526642613997,\n        \"min\": 3876.35,\n        \"max\": 18720.0,\n        \"num_unique_values\": 2007,\n        \"samples\": [\n          17396.1\n        ],\n        \"semantic_type\": \"\",\n        \"description\": \"\"\n      }\n    },\n    {\n      \"column\": \"Close\",\n      \"properties\": {\n        \"dtype\": \"number\",\n        \"std\": 4119.933284815926,\n        \"min\": 3887.9,\n        \"max\": 18732.7,\n        \"num_unique_values\": 2435,\n        \"samples\": [\n          14658.25\n        ],\n        \"semantic_type\": \"\",\n        \"description\": \"\"\n      }\n    },\n    {\n      \"column\": \"VWAP\",\n      \"properties\": {\n        \"dtype\": \"number\",\n        \"std\": 4119.932963435706,\n        \"min\": 3896.22,\n        \"max\": 18683.52,\n        \"num_unique_values\": 2450,\n        \"samples\": [\n          6764.04\n        ],\n        \"semantic_type\": \"\",\n        \"description\": \"\"\n      }\n    },\n    {\n      \"column\": \"Volume\",\n      \"properties\": {\n        \"dtype\": \"number\",\n        \"std\": 70288,\n        \"min\": 305,\n        \"max\": 1106746,\n        \"num_unique_values\": 2426,\n        \"samples\": [\n          60187\n        ],\n        \"semantic_type\": \"\",\n        \"description\": \"\"\n      }\n    },\n    {\n      \"column\": \"Turnover\",\n      \"properties\": {\n        \"dtype\": \"number\",\n        \"std\": 100204166698267.95,\n        \"min\": 125847414999.99998,\n        \"max\": 1979044099645000.0,\n        \"num_unique_values\": 2456,\n        \"samples\": [\n          11023286005000.0\n        ],\n        \"semantic_type\": \"\",\n        \"description\": \"\"\n      }\n    },\n    {\n      \"column\": \"Trades\",\n      \"properties\": {\n        \"dtype\": \"number\",\n        \"std\": 12405.830783804466,\n        \"min\": 63.0,\n        \"max\": 122364.0,\n        \"num_unique_values\": 2306,\n        \"samples\": [\n          13399.0\n        ],\n        \"semantic_type\": \"\",\n        \"description\": \"\"\n      }\n    },\n    {\n      \"column\": \"Deliverable Volume\",\n      \"properties\": {\n        \"dtype\": \"number\",\n        \"std\": 43911,\n        \"min\": 135,\n        \"max\": 929598,\n        \"num_unique_values\": 2413,\n        \"samples\": [\n          12554\n        ],\n        \"semantic_type\": \"\",\n        \"description\": \"\"\n      }\n    },\n    {\n      \"column\": \"%Deliverble\",\n      \"properties\": {\n        \"dtype\": \"number\",\n        \"std\": 0.16314296194072764,\n        \"min\": 0.131,\n        \"max\": 0.9888,\n        \"num_unique_values\": 2023,\n        \"samples\": [\n          0.9888\n        ],\n        \"semantic_type\": \"\",\n        \"description\": \"\"\n      }\n    }\n  ]\n}"
            }
          },
          "metadata": {},
          "execution_count": 59
        }
      ],
      "source": [
        "df.head()"
      ]
    },
    {
      "cell_type": "code",
      "execution_count": null,
      "metadata": {
        "colab": {
          "base_uri": "https://localhost:8080/"
        },
        "id": "hX3i5aHdaB7U",
        "outputId": "765bf824-2801-4f2f-fa16-d0b79e7690e4"
      },
      "outputs": [
        {
          "output_type": "stream",
          "name": "stdout",
          "text": [
            "Dataframe contains stock prices between 2011-06-01 00:00:00 2021-04-30 00:00:00\n",
            "Total days = 3621 days\n"
          ]
        }
      ],
      "source": [
        "print(f'Dataframe contains stock prices between {df.Date.min()} {df.Date.max()}')\n",
        "print(f'Total days = {(df.Date.max()  - df.Date.min()).days} days')"
      ]
    },
    {
      "cell_type": "code",
      "execution_count": null,
      "metadata": {
        "colab": {
          "base_uri": "https://localhost:8080/",
          "height": 441
        },
        "id": "bVV2AGxuaKNt",
        "outputId": "1f025631-822b-4f97-ef3f-289f3a2e8fbf"
      },
      "outputs": [
        {
          "output_type": "execute_result",
          "data": {
            "text/plain": [
              "                                Date    Prev Close          Open  \\\n",
              "count                           2456   2456.000000   2456.000000   \n",
              "mean   2016-05-12 15:18:45.732899328   8116.981026   8128.994218   \n",
              "min              2011-06-01 00:00:00   3887.900000   3879.000000   \n",
              "25%              2013-11-13 18:00:00   4999.362500   4992.250000   \n",
              "50%              2016-05-16 12:00:00   6378.675000   6388.500000   \n",
              "75%              2018-11-05 06:00:00  10393.750000  10402.250000   \n",
              "max              2021-04-30 00:00:00  18732.700000  18844.000000   \n",
              "std                              NaN   4117.431773   4126.472834   \n",
              "\n",
              "               High           Low          Last         Close          VWAP  \\\n",
              "count   2456.000000   2456.000000   2456.000000   2456.000000   2456.000000   \n",
              "mean    8220.661523   8029.358388   8121.078929   8121.968791   8124.362936   \n",
              "min     3936.900000   3855.000000   3876.350000   3887.900000   3896.220000   \n",
              "25%     5047.225000   4947.500000   4999.475000   5000.375000   5002.835000   \n",
              "50%     6480.975000   6306.225000   6380.000000   6381.350000   6380.035000   \n",
              "75%    10552.575000  10272.162500  10411.250000  10395.487500  10407.077500   \n",
              "max    18844.000000  18520.000000  18720.000000  18732.700000  18683.520000   \n",
              "std     4172.316441   4069.422878   4119.526643   4119.933285   4119.932963   \n",
              "\n",
              "             Volume      Turnover         Trades  Deliverable Volume  \\\n",
              "count  2.456000e+03  2.456000e+03    2456.000000         2456.000000   \n",
              "mean   5.835114e+04  6.148337e+13   11043.311075        35074.405130   \n",
              "min    3.050000e+02  1.258474e+11      63.000000          135.000000   \n",
              "25%    1.958725e+04  1.086018e+13    3400.000000        12943.750000   \n",
              "50%    3.704750e+04  2.342578e+13    6352.000000        24559.000000   \n",
              "75%    7.224775e+04  6.842641e+13   14116.500000        43857.000000   \n",
              "max    1.106746e+06  1.979044e+15  122364.000000       929598.000000   \n",
              "std    7.028896e+04  1.002042e+14   12405.830784        43911.649744   \n",
              "\n",
              "       %Deliverble  \n",
              "count  2456.000000  \n",
              "mean      0.654435  \n",
              "min       0.131000  \n",
              "25%       0.537600  \n",
              "50%       0.660850  \n",
              "75%       0.779375  \n",
              "max       0.988800  \n",
              "std       0.163143  "
            ],
            "text/html": [
              "\n",
              "  <div id=\"df-6d3b5179-8702-42f8-aa69-82718ec7a1ff\" class=\"colab-df-container\">\n",
              "    <div>\n",
              "<style scoped>\n",
              "    .dataframe tbody tr th:only-of-type {\n",
              "        vertical-align: middle;\n",
              "    }\n",
              "\n",
              "    .dataframe tbody tr th {\n",
              "        vertical-align: top;\n",
              "    }\n",
              "\n",
              "    .dataframe thead th {\n",
              "        text-align: right;\n",
              "    }\n",
              "</style>\n",
              "<table border=\"1\" class=\"dataframe\">\n",
              "  <thead>\n",
              "    <tr style=\"text-align: right;\">\n",
              "      <th></th>\n",
              "      <th>Date</th>\n",
              "      <th>Prev Close</th>\n",
              "      <th>Open</th>\n",
              "      <th>High</th>\n",
              "      <th>Low</th>\n",
              "      <th>Last</th>\n",
              "      <th>Close</th>\n",
              "      <th>VWAP</th>\n",
              "      <th>Volume</th>\n",
              "      <th>Turnover</th>\n",
              "      <th>Trades</th>\n",
              "      <th>Deliverable Volume</th>\n",
              "      <th>%Deliverble</th>\n",
              "    </tr>\n",
              "  </thead>\n",
              "  <tbody>\n",
              "    <tr>\n",
              "      <th>count</th>\n",
              "      <td>2456</td>\n",
              "      <td>2456.000000</td>\n",
              "      <td>2456.000000</td>\n",
              "      <td>2456.000000</td>\n",
              "      <td>2456.000000</td>\n",
              "      <td>2456.000000</td>\n",
              "      <td>2456.000000</td>\n",
              "      <td>2456.000000</td>\n",
              "      <td>2.456000e+03</td>\n",
              "      <td>2.456000e+03</td>\n",
              "      <td>2456.000000</td>\n",
              "      <td>2456.000000</td>\n",
              "      <td>2456.000000</td>\n",
              "    </tr>\n",
              "    <tr>\n",
              "      <th>mean</th>\n",
              "      <td>2016-05-12 15:18:45.732899328</td>\n",
              "      <td>8116.981026</td>\n",
              "      <td>8128.994218</td>\n",
              "      <td>8220.661523</td>\n",
              "      <td>8029.358388</td>\n",
              "      <td>8121.078929</td>\n",
              "      <td>8121.968791</td>\n",
              "      <td>8124.362936</td>\n",
              "      <td>5.835114e+04</td>\n",
              "      <td>6.148337e+13</td>\n",
              "      <td>11043.311075</td>\n",
              "      <td>35074.405130</td>\n",
              "      <td>0.654435</td>\n",
              "    </tr>\n",
              "    <tr>\n",
              "      <th>min</th>\n",
              "      <td>2011-06-01 00:00:00</td>\n",
              "      <td>3887.900000</td>\n",
              "      <td>3879.000000</td>\n",
              "      <td>3936.900000</td>\n",
              "      <td>3855.000000</td>\n",
              "      <td>3876.350000</td>\n",
              "      <td>3887.900000</td>\n",
              "      <td>3896.220000</td>\n",
              "      <td>3.050000e+02</td>\n",
              "      <td>1.258474e+11</td>\n",
              "      <td>63.000000</td>\n",
              "      <td>135.000000</td>\n",
              "      <td>0.131000</td>\n",
              "    </tr>\n",
              "    <tr>\n",
              "      <th>25%</th>\n",
              "      <td>2013-11-13 18:00:00</td>\n",
              "      <td>4999.362500</td>\n",
              "      <td>4992.250000</td>\n",
              "      <td>5047.225000</td>\n",
              "      <td>4947.500000</td>\n",
              "      <td>4999.475000</td>\n",
              "      <td>5000.375000</td>\n",
              "      <td>5002.835000</td>\n",
              "      <td>1.958725e+04</td>\n",
              "      <td>1.086018e+13</td>\n",
              "      <td>3400.000000</td>\n",
              "      <td>12943.750000</td>\n",
              "      <td>0.537600</td>\n",
              "    </tr>\n",
              "    <tr>\n",
              "      <th>50%</th>\n",
              "      <td>2016-05-16 12:00:00</td>\n",
              "      <td>6378.675000</td>\n",
              "      <td>6388.500000</td>\n",
              "      <td>6480.975000</td>\n",
              "      <td>6306.225000</td>\n",
              "      <td>6380.000000</td>\n",
              "      <td>6381.350000</td>\n",
              "      <td>6380.035000</td>\n",
              "      <td>3.704750e+04</td>\n",
              "      <td>2.342578e+13</td>\n",
              "      <td>6352.000000</td>\n",
              "      <td>24559.000000</td>\n",
              "      <td>0.660850</td>\n",
              "    </tr>\n",
              "    <tr>\n",
              "      <th>75%</th>\n",
              "      <td>2018-11-05 06:00:00</td>\n",
              "      <td>10393.750000</td>\n",
              "      <td>10402.250000</td>\n",
              "      <td>10552.575000</td>\n",
              "      <td>10272.162500</td>\n",
              "      <td>10411.250000</td>\n",
              "      <td>10395.487500</td>\n",
              "      <td>10407.077500</td>\n",
              "      <td>7.224775e+04</td>\n",
              "      <td>6.842641e+13</td>\n",
              "      <td>14116.500000</td>\n",
              "      <td>43857.000000</td>\n",
              "      <td>0.779375</td>\n",
              "    </tr>\n",
              "    <tr>\n",
              "      <th>max</th>\n",
              "      <td>2021-04-30 00:00:00</td>\n",
              "      <td>18732.700000</td>\n",
              "      <td>18844.000000</td>\n",
              "      <td>18844.000000</td>\n",
              "      <td>18520.000000</td>\n",
              "      <td>18720.000000</td>\n",
              "      <td>18732.700000</td>\n",
              "      <td>18683.520000</td>\n",
              "      <td>1.106746e+06</td>\n",
              "      <td>1.979044e+15</td>\n",
              "      <td>122364.000000</td>\n",
              "      <td>929598.000000</td>\n",
              "      <td>0.988800</td>\n",
              "    </tr>\n",
              "    <tr>\n",
              "      <th>std</th>\n",
              "      <td>NaN</td>\n",
              "      <td>4117.431773</td>\n",
              "      <td>4126.472834</td>\n",
              "      <td>4172.316441</td>\n",
              "      <td>4069.422878</td>\n",
              "      <td>4119.526643</td>\n",
              "      <td>4119.933285</td>\n",
              "      <td>4119.932963</td>\n",
              "      <td>7.028896e+04</td>\n",
              "      <td>1.002042e+14</td>\n",
              "      <td>12405.830784</td>\n",
              "      <td>43911.649744</td>\n",
              "      <td>0.163143</td>\n",
              "    </tr>\n",
              "  </tbody>\n",
              "</table>\n",
              "</div>\n",
              "    <div class=\"colab-df-buttons\">\n",
              "\n",
              "  <div class=\"colab-df-container\">\n",
              "    <button class=\"colab-df-convert\" onclick=\"convertToInteractive('df-6d3b5179-8702-42f8-aa69-82718ec7a1ff')\"\n",
              "            title=\"Convert this dataframe to an interactive table.\"\n",
              "            style=\"display:none;\">\n",
              "\n",
              "  <svg xmlns=\"http://www.w3.org/2000/svg\" height=\"24px\" viewBox=\"0 -960 960 960\">\n",
              "    <path d=\"M120-120v-720h720v720H120Zm60-500h600v-160H180v160Zm220 220h160v-160H400v160Zm0 220h160v-160H400v160ZM180-400h160v-160H180v160Zm440 0h160v-160H620v160ZM180-180h160v-160H180v160Zm440 0h160v-160H620v160Z\"/>\n",
              "  </svg>\n",
              "    </button>\n",
              "\n",
              "  <style>\n",
              "    .colab-df-container {\n",
              "      display:flex;\n",
              "      gap: 12px;\n",
              "    }\n",
              "\n",
              "    .colab-df-convert {\n",
              "      background-color: #E8F0FE;\n",
              "      border: none;\n",
              "      border-radius: 50%;\n",
              "      cursor: pointer;\n",
              "      display: none;\n",
              "      fill: #1967D2;\n",
              "      height: 32px;\n",
              "      padding: 0 0 0 0;\n",
              "      width: 32px;\n",
              "    }\n",
              "\n",
              "    .colab-df-convert:hover {\n",
              "      background-color: #E2EBFA;\n",
              "      box-shadow: 0px 1px 2px rgba(60, 64, 67, 0.3), 0px 1px 3px 1px rgba(60, 64, 67, 0.15);\n",
              "      fill: #174EA6;\n",
              "    }\n",
              "\n",
              "    .colab-df-buttons div {\n",
              "      margin-bottom: 4px;\n",
              "    }\n",
              "\n",
              "    [theme=dark] .colab-df-convert {\n",
              "      background-color: #3B4455;\n",
              "      fill: #D2E3FC;\n",
              "    }\n",
              "\n",
              "    [theme=dark] .colab-df-convert:hover {\n",
              "      background-color: #434B5C;\n",
              "      box-shadow: 0px 1px 3px 1px rgba(0, 0, 0, 0.15);\n",
              "      filter: drop-shadow(0px 1px 2px rgba(0, 0, 0, 0.3));\n",
              "      fill: #FFFFFF;\n",
              "    }\n",
              "  </style>\n",
              "\n",
              "    <script>\n",
              "      const buttonEl =\n",
              "        document.querySelector('#df-6d3b5179-8702-42f8-aa69-82718ec7a1ff button.colab-df-convert');\n",
              "      buttonEl.style.display =\n",
              "        google.colab.kernel.accessAllowed ? 'block' : 'none';\n",
              "\n",
              "      async function convertToInteractive(key) {\n",
              "        const element = document.querySelector('#df-6d3b5179-8702-42f8-aa69-82718ec7a1ff');\n",
              "        const dataTable =\n",
              "          await google.colab.kernel.invokeFunction('convertToInteractive',\n",
              "                                                    [key], {});\n",
              "        if (!dataTable) return;\n",
              "\n",
              "        const docLinkHtml = 'Like what you see? Visit the ' +\n",
              "          '<a target=\"_blank\" href=https://colab.research.google.com/notebooks/data_table.ipynb>data table notebook</a>'\n",
              "          + ' to learn more about interactive tables.';\n",
              "        element.innerHTML = '';\n",
              "        dataTable['output_type'] = 'display_data';\n",
              "        await google.colab.output.renderOutput(dataTable, element);\n",
              "        const docLink = document.createElement('div');\n",
              "        docLink.innerHTML = docLinkHtml;\n",
              "        element.appendChild(docLink);\n",
              "      }\n",
              "    </script>\n",
              "  </div>\n",
              "\n",
              "\n",
              "<div id=\"df-54250ae0-a45b-4eb4-93f4-36fd923676ce\">\n",
              "  <button class=\"colab-df-quickchart\" onclick=\"quickchart('df-54250ae0-a45b-4eb4-93f4-36fd923676ce')\"\n",
              "            title=\"Suggest charts\"\n",
              "            style=\"display:none;\">\n",
              "\n",
              "<svg xmlns=\"http://www.w3.org/2000/svg\" height=\"24px\"viewBox=\"0 0 24 24\"\n",
              "     width=\"24px\">\n",
              "    <g>\n",
              "        <path d=\"M19 3H5c-1.1 0-2 .9-2 2v14c0 1.1.9 2 2 2h14c1.1 0 2-.9 2-2V5c0-1.1-.9-2-2-2zM9 17H7v-7h2v7zm4 0h-2V7h2v10zm4 0h-2v-4h2v4z\"/>\n",
              "    </g>\n",
              "</svg>\n",
              "  </button>\n",
              "\n",
              "<style>\n",
              "  .colab-df-quickchart {\n",
              "      --bg-color: #E8F0FE;\n",
              "      --fill-color: #1967D2;\n",
              "      --hover-bg-color: #E2EBFA;\n",
              "      --hover-fill-color: #174EA6;\n",
              "      --disabled-fill-color: #AAA;\n",
              "      --disabled-bg-color: #DDD;\n",
              "  }\n",
              "\n",
              "  [theme=dark] .colab-df-quickchart {\n",
              "      --bg-color: #3B4455;\n",
              "      --fill-color: #D2E3FC;\n",
              "      --hover-bg-color: #434B5C;\n",
              "      --hover-fill-color: #FFFFFF;\n",
              "      --disabled-bg-color: #3B4455;\n",
              "      --disabled-fill-color: #666;\n",
              "  }\n",
              "\n",
              "  .colab-df-quickchart {\n",
              "    background-color: var(--bg-color);\n",
              "    border: none;\n",
              "    border-radius: 50%;\n",
              "    cursor: pointer;\n",
              "    display: none;\n",
              "    fill: var(--fill-color);\n",
              "    height: 32px;\n",
              "    padding: 0;\n",
              "    width: 32px;\n",
              "  }\n",
              "\n",
              "  .colab-df-quickchart:hover {\n",
              "    background-color: var(--hover-bg-color);\n",
              "    box-shadow: 0 1px 2px rgba(60, 64, 67, 0.3), 0 1px 3px 1px rgba(60, 64, 67, 0.15);\n",
              "    fill: var(--button-hover-fill-color);\n",
              "  }\n",
              "\n",
              "  .colab-df-quickchart-complete:disabled,\n",
              "  .colab-df-quickchart-complete:disabled:hover {\n",
              "    background-color: var(--disabled-bg-color);\n",
              "    fill: var(--disabled-fill-color);\n",
              "    box-shadow: none;\n",
              "  }\n",
              "\n",
              "  .colab-df-spinner {\n",
              "    border: 2px solid var(--fill-color);\n",
              "    border-color: transparent;\n",
              "    border-bottom-color: var(--fill-color);\n",
              "    animation:\n",
              "      spin 1s steps(1) infinite;\n",
              "  }\n",
              "\n",
              "  @keyframes spin {\n",
              "    0% {\n",
              "      border-color: transparent;\n",
              "      border-bottom-color: var(--fill-color);\n",
              "      border-left-color: var(--fill-color);\n",
              "    }\n",
              "    20% {\n",
              "      border-color: transparent;\n",
              "      border-left-color: var(--fill-color);\n",
              "      border-top-color: var(--fill-color);\n",
              "    }\n",
              "    30% {\n",
              "      border-color: transparent;\n",
              "      border-left-color: var(--fill-color);\n",
              "      border-top-color: var(--fill-color);\n",
              "      border-right-color: var(--fill-color);\n",
              "    }\n",
              "    40% {\n",
              "      border-color: transparent;\n",
              "      border-right-color: var(--fill-color);\n",
              "      border-top-color: var(--fill-color);\n",
              "    }\n",
              "    60% {\n",
              "      border-color: transparent;\n",
              "      border-right-color: var(--fill-color);\n",
              "    }\n",
              "    80% {\n",
              "      border-color: transparent;\n",
              "      border-right-color: var(--fill-color);\n",
              "      border-bottom-color: var(--fill-color);\n",
              "    }\n",
              "    90% {\n",
              "      border-color: transparent;\n",
              "      border-bottom-color: var(--fill-color);\n",
              "    }\n",
              "  }\n",
              "</style>\n",
              "\n",
              "  <script>\n",
              "    async function quickchart(key) {\n",
              "      const quickchartButtonEl =\n",
              "        document.querySelector('#' + key + ' button');\n",
              "      quickchartButtonEl.disabled = true;  // To prevent multiple clicks.\n",
              "      quickchartButtonEl.classList.add('colab-df-spinner');\n",
              "      try {\n",
              "        const charts = await google.colab.kernel.invokeFunction(\n",
              "            'suggestCharts', [key], {});\n",
              "      } catch (error) {\n",
              "        console.error('Error during call to suggestCharts:', error);\n",
              "      }\n",
              "      quickchartButtonEl.classList.remove('colab-df-spinner');\n",
              "      quickchartButtonEl.classList.add('colab-df-quickchart-complete');\n",
              "    }\n",
              "    (() => {\n",
              "      let quickchartButtonEl =\n",
              "        document.querySelector('#df-54250ae0-a45b-4eb4-93f4-36fd923676ce button');\n",
              "      quickchartButtonEl.style.display =\n",
              "        google.colab.kernel.accessAllowed ? 'block' : 'none';\n",
              "    })();\n",
              "  </script>\n",
              "</div>\n",
              "\n",
              "    </div>\n",
              "  </div>\n"
            ],
            "application/vnd.google.colaboratory.intrinsic+json": {
              "type": "dataframe",
              "summary": "{\n  \"name\": \"df\",\n  \"rows\": 8,\n  \"fields\": [\n    {\n      \"column\": \"Date\",\n      \"properties\": {\n        \"dtype\": \"date\",\n        \"min\": \"1970-01-01 00:00:00.000002456\",\n        \"max\": \"2021-04-30 00:00:00\",\n        \"num_unique_values\": 7,\n        \"samples\": [\n          \"2456\",\n          \"2016-05-12 15:18:45.732899328\",\n          \"2018-11-05 06:00:00\"\n        ],\n        \"semantic_type\": \"\",\n        \"description\": \"\"\n      }\n    },\n    {\n      \"column\": \"Prev Close\",\n      \"properties\": {\n        \"dtype\": \"number\",\n        \"std\": 5240.833833714007,\n        \"min\": 2456.0,\n        \"max\": 18732.7,\n        \"num_unique_values\": 8,\n        \"samples\": [\n          8116.981026058631,\n          10393.75,\n          2456.0\n        ],\n        \"semantic_type\": \"\",\n        \"description\": \"\"\n      }\n    },\n    {\n      \"column\": \"Open\",\n      \"properties\": {\n        \"dtype\": \"number\",\n        \"std\": 5276.456940505747,\n        \"min\": 2456.0,\n        \"max\": 18844.0,\n        \"num_unique_values\": 8,\n        \"samples\": [\n          8128.994218241041,\n          10402.25,\n          2456.0\n        ],\n        \"semantic_type\": \"\",\n        \"description\": \"\"\n      }\n    },\n    {\n      \"column\": \"High\",\n      \"properties\": {\n        \"dtype\": \"number\",\n        \"std\": 5274.995607005332,\n        \"min\": 2456.0,\n        \"max\": 18844.0,\n        \"num_unique_values\": 8,\n        \"samples\": [\n          8220.661522801303,\n          10552.575,\n          2456.0\n        ],\n        \"semantic_type\": \"\",\n        \"description\": \"\"\n      }\n    },\n    {\n      \"column\": \"Low\",\n      \"properties\": {\n        \"dtype\": \"number\",\n        \"std\": 5176.106655339281,\n        \"min\": 2456.0,\n        \"max\": 18520.0,\n        \"num_unique_values\": 8,\n        \"samples\": [\n          8029.358387622151,\n          10272.1625,\n          2456.0\n        ],\n        \"semantic_type\": \"\",\n        \"description\": \"\"\n      }\n    },\n    {\n      \"column\": \"Last\",\n      \"properties\": {\n        \"dtype\": \"number\",\n        \"std\": 5239.301495906272,\n        \"min\": 2456.0,\n        \"max\": 18720.0,\n        \"num_unique_values\": 8,\n        \"samples\": [\n          8121.0789291530955,\n          10411.25,\n          2456.0\n        ],\n        \"semantic_type\": \"\",\n        \"description\": \"\"\n      }\n    },\n    {\n      \"column\": \"Close\",\n      \"properties\": {\n        \"dtype\": \"number\",\n        \"std\": 5240.7139942322065,\n        \"min\": 2456.0,\n        \"max\": 18732.7,\n        \"num_unique_values\": 8,\n        \"samples\": [\n          8121.968790716613,\n          10395.4875,\n          2456.0\n        ],\n        \"semantic_type\": \"\",\n        \"description\": \"\"\n      }\n    },\n    {\n      \"column\": \"VWAP\",\n      \"properties\": {\n        \"dtype\": \"number\",\n        \"std\": 5225.59779212754,\n        \"min\": 2456.0,\n        \"max\": 18683.52,\n        \"num_unique_values\": 8,\n        \"samples\": [\n          8124.362935667751,\n          10407.0775,\n          2456.0\n        ],\n        \"semantic_type\": \"\",\n        \"description\": \"\"\n      }\n    },\n    {\n      \"column\": \"Volume\",\n      \"properties\": {\n        \"dtype\": \"number\",\n        \"std\": 379213.07632258337,\n        \"min\": 305.0,\n        \"max\": 1106746.0,\n        \"num_unique_values\": 8,\n        \"samples\": [\n          58351.13680781759,\n          72247.75,\n          2456.0\n        ],\n        \"semantic_type\": \"\",\n        \"description\": \"\"\n      }\n    },\n    {\n      \"column\": \"Turnover\",\n      \"properties\": {\n        \"dtype\": \"number\",\n        \"std\": 687291248093139.2,\n        \"min\": 2456.0,\n        \"max\": 1979044099645000.0,\n        \"num_unique_values\": 8,\n        \"samples\": [\n          61483372046974.766,\n          68426410457499.99,\n          2456.0\n        ],\n        \"semantic_type\": \"\",\n        \"description\": \"\"\n      }\n    },\n    {\n      \"column\": \"Trades\",\n      \"properties\": {\n        \"dtype\": \"number\",\n        \"std\": 41056.3977998806,\n        \"min\": 63.0,\n        \"max\": 122364.0,\n        \"num_unique_values\": 8,\n        \"samples\": [\n          11043.311074918567,\n          14116.5,\n          2456.0\n        ],\n        \"semantic_type\": \"\",\n        \"description\": \"\"\n      }\n    },\n    {\n      \"column\": \"Deliverable Volume\",\n      \"properties\": {\n        \"dtype\": \"number\",\n        \"std\": 320893.1782106093,\n        \"min\": 135.0,\n        \"max\": 929598.0,\n        \"num_unique_values\": 8,\n        \"samples\": [\n          35074.40513029316,\n          43857.0,\n          2456.0\n        ],\n        \"semantic_type\": \"\",\n        \"description\": \"\"\n      }\n    },\n    {\n      \"column\": \"%Deliverble\",\n      \"properties\": {\n        \"dtype\": \"number\",\n        \"std\": 868.1294284876199,\n        \"min\": 0.131,\n        \"max\": 2456.0,\n        \"num_unique_values\": 8,\n        \"samples\": [\n          0.6544349755700326,\n          0.779375,\n          2456.0\n        ],\n        \"semantic_type\": \"\",\n        \"description\": \"\"\n      }\n    }\n  ]\n}"
            }
          },
          "metadata": {},
          "execution_count": 16
        }
      ],
      "source": [
        "df.describe()"
      ]
    },
    {
      "cell_type": "code",
      "execution_count": null,
      "metadata": {
        "colab": {
          "base_uri": "https://localhost:8080/",
          "height": 447
        },
        "id": "ag0DFfJlbeeh",
        "outputId": "10d7e3e2-f00c-4fb8-da1a-53e1316a6a5f"
      },
      "outputs": [
        {
          "output_type": "execute_result",
          "data": {
            "text/plain": [
              "<Axes: >"
            ]
          },
          "metadata": {},
          "execution_count": 17
        },
        {
          "output_type": "display_data",
          "data": {
            "text/plain": [
              "<Figure size 640x480 with 1 Axes>"
            ],
            "image/png": "[encoded data removed]"
          },
          "metadata": {}
        }
      ],
      "source": [
        "df[['Date', 'Prev Close', 'Open','High','Low', 'Last', 'Close',]].plot(kind='box')"
      ]
    },
    {
      "cell_type": "code",
      "execution_count": null,
      "metadata": {
        "colab": {
          "base_uri": "https://localhost:8080/",
          "height": 310
        },
        "id": "5-yPPSsH6MPQ",
        "outputId": "dde6d003-ee82-4ec9-9097-caf9a4ef920d"
      },
      "outputs": [
        {
          "output_type": "execute_result",
          "data": {
            "text/plain": [
              "          Date     Symbol Series  Prev Close    Open     High     Low    Last  \\\n",
              "350 2011-06-01  NESTLEIND     EQ     4059.30  4065.1  4134.00  4065.0  4103.0   \n",
              "351 2011-06-02  NESTLEIND     EQ     4104.45  4070.0  4139.00  4060.1  4102.0   \n",
              "352 2011-06-03  NESTLEIND     EQ     4105.20  4120.0  4140.75  4088.0  4090.1   \n",
              "353 2011-06-06  NESTLEIND     EQ     4093.25  4130.0  4150.00  4072.1  4140.0   \n",
              "354 2011-06-07  NESTLEIND     EQ     4141.25  4149.0  4173.90  4106.3  4161.0   \n",
              "\n",
              "       Close     VWAP  Volume      Turnover  Trades  Deliverable Volume  \\\n",
              "350  4104.45  4083.00   24513  1.000865e+13  1265.0               18592   \n",
              "351  4105.20  4112.36    8774  3.608181e+12  1434.0                5033   \n",
              "352  4093.25  4107.22    3699  1.519259e+12  1046.0                2146   \n",
              "353  4141.25  4129.71    7083  2.925075e+12  1570.0                4110   \n",
              "354  4165.10  4142.66    7831  3.244117e+12  1193.0                5865   \n",
              "\n",
              "     %Deliverble  \n",
              "350       0.7585  \n",
              "351       0.5736  \n",
              "352       0.5802  \n",
              "353       0.5803  \n",
              "354       0.7489  "
            ],
            "text/html": [
              "\n",
              "  <div id=\"df-fd5b88bf-5a44-425b-9aff-a830d578d2dd\" class=\"colab-df-container\">\n",
              "    <div>\n",
              "<style scoped>\n",
              "    .dataframe tbody tr th:only-of-type {\n",
              "        vertical-align: middle;\n",
              "    }\n",
              "\n",
              "    .dataframe tbody tr th {\n",
              "        vertical-align: top;\n",
              "    }\n",
              "\n",
              "    .dataframe thead th {\n",
              "        text-align: right;\n",
              "    }\n",
              "</style>\n",
              "<table border=\"1\" class=\"dataframe\">\n",
              "  <thead>\n",
              "    <tr style=\"text-align: right;\">\n",
              "      <th></th>\n",
              "      <th>Date</th>\n",
              "      <th>Symbol</th>\n",
              "      <th>Series</th>\n",
              "      <th>Prev Close</th>\n",
              "      <th>Open</th>\n",
              "      <th>High</th>\n",
              "      <th>Low</th>\n",
              "      <th>Last</th>\n",
              "      <th>Close</th>\n",
              "      <th>VWAP</th>\n",
              "      <th>Volume</th>\n",
              "      <th>Turnover</th>\n",
              "      <th>Trades</th>\n",
              "      <th>Deliverable Volume</th>\n",
              "      <th>%Deliverble</th>\n",
              "    </tr>\n",
              "  </thead>\n",
              "  <tbody>\n",
              "    <tr>\n",
              "      <th>350</th>\n",
              "      <td>2011-06-01</td>\n",
              "      <td>NESTLEIND</td>\n",
              "      <td>EQ</td>\n",
              "      <td>4059.30</td>\n",
              "      <td>4065.1</td>\n",
              "      <td>4134.00</td>\n",
              "      <td>4065.0</td>\n",
              "      <td>4103.0</td>\n",
              "      <td>4104.45</td>\n",
              "      <td>4083.00</td>\n",
              "      <td>24513</td>\n",
              "      <td>1.000865e+13</td>\n",
              "      <td>1265.0</td>\n",
              "      <td>18592</td>\n",
              "      <td>0.7585</td>\n",
              "    </tr>\n",
              "    <tr>\n",
              "      <th>351</th>\n",
              "      <td>2011-06-02</td>\n",
              "      <td>NESTLEIND</td>\n",
              "      <td>EQ</td>\n",
              "      <td>4104.45</td>\n",
              "      <td>4070.0</td>\n",
              "      <td>4139.00</td>\n",
              "      <td>4060.1</td>\n",
              "      <td>4102.0</td>\n",
              "      <td>4105.20</td>\n",
              "      <td>4112.36</td>\n",
              "      <td>8774</td>\n",
              "      <td>3.608181e+12</td>\n",
              "      <td>1434.0</td>\n",
              "      <td>5033</td>\n",
              "      <td>0.5736</td>\n",
              "    </tr>\n",
              "    <tr>\n",
              "      <th>352</th>\n",
              "      <td>2011-06-03</td>\n",
              "      <td>NESTLEIND</td>\n",
              "      <td>EQ</td>\n",
              "      <td>4105.20</td>\n",
              "      <td>4120.0</td>\n",
              "      <td>4140.75</td>\n",
              "      <td>4088.0</td>\n",
              "      <td>4090.1</td>\n",
              "      <td>4093.25</td>\n",
              "      <td>4107.22</td>\n",
              "      <td>3699</td>\n",
              "      <td>1.519259e+12</td>\n",
              "      <td>1046.0</td>\n",
              "      <td>2146</td>\n",
              "      <td>0.5802</td>\n",
              "    </tr>\n",
              "    <tr>\n",
              "      <th>353</th>\n",
              "      <td>2011-06-06</td>\n",
              "      <td>NESTLEIND</td>\n",
              "      <td>EQ</td>\n",
              "      <td>4093.25</td>\n",
              "      <td>4130.0</td>\n",
              "      <td>4150.00</td>\n",
              "      <td>4072.1</td>\n",
              "      <td>4140.0</td>\n",
              "      <td>4141.25</td>\n",
              "      <td>4129.71</td>\n",
              "      <td>7083</td>\n",
              "      <td>2.925075e+12</td>\n",
              "      <td>1570.0</td>\n",
              "      <td>4110</td>\n",
              "      <td>0.5803</td>\n",
              "    </tr>\n",
              "    <tr>\n",
              "      <th>354</th>\n",
              "      <td>2011-06-07</td>\n",
              "      <td>NESTLEIND</td>\n",
              "      <td>EQ</td>\n",
              "      <td>4141.25</td>\n",
              "      <td>4149.0</td>\n",
              "      <td>4173.90</td>\n",
              "      <td>4106.3</td>\n",
              "      <td>4161.0</td>\n",
              "      <td>4165.10</td>\n",
              "      <td>4142.66</td>\n",
              "      <td>7831</td>\n",
              "      <td>3.244117e+12</td>\n",
              "      <td>1193.0</td>\n",
              "      <td>5865</td>\n",
              "      <td>0.7489</td>\n",
              "    </tr>\n",
              "  </tbody>\n",
              "</table>\n",
              "</div>\n",
              "    <div class=\"colab-df-buttons\">\n",
              "\n",
              "  <div class=\"colab-df-container\">\n",
              "    <button class=\"colab-df-convert\" onclick=\"convertToInteractive('df-fd5b88bf-5a44-425b-9aff-a830d578d2dd')\"\n",
              "            title=\"Convert this dataframe to an interactive table.\"\n",
              "            style=\"display:none;\">\n",
              "\n",
              "  <svg xmlns=\"http://www.w3.org/2000/svg\" height=\"24px\" viewBox=\"0 -960 960 960\">\n",
              "    <path d=\"M120-120v-720h720v720H120Zm60-500h600v-160H180v160Zm220 220h160v-160H400v160Zm0 220h160v-160H400v160ZM180-400h160v-160H180v160Zm440 0h160v-160H620v160ZM180-180h160v-160H180v160Zm440 0h160v-160H620v160Z\"/>\n",
              "  </svg>\n",
              "    </button>\n",
              "\n",
              "  <style>\n",
              "    .colab-df-container {\n",
              "      display:flex;\n",
              "      gap: 12px;\n",
              "    }\n",
              "\n",
              "    .colab-df-convert {\n",
              "      background-color: #E8F0FE;\n",
              "      border: none;\n",
              "      border-radius: 50%;\n",
              "      cursor: pointer;\n",
              "      display: none;\n",
              "      fill: #1967D2;\n",
              "      height: 32px;\n",
              "      padding: 0 0 0 0;\n",
              "      width: 32px;\n",
              "    }\n",
              "\n",
              "    .colab-df-convert:hover {\n",
              "      background-color: #E2EBFA;\n",
              "      box-shadow: 0px 1px 2px rgba(60, 64, 67, 0.3), 0px 1px 3px 1px rgba(60, 64, 67, 0.15);\n",
              "      fill: #174EA6;\n",
              "    }\n",
              "\n",
              "    .colab-df-buttons div {\n",
              "      margin-bottom: 4px;\n",
              "    }\n",
              "\n",
              "    [theme=dark] .colab-df-convert {\n",
              "      background-color: #3B4455;\n",
              "      fill: #D2E3FC;\n",
              "    }\n",
              "\n",
              "    [theme=dark] .colab-df-convert:hover {\n",
              "      background-color: #434B5C;\n",
              "      box-shadow: 0px 1px 3px 1px rgba(0, 0, 0, 0.15);\n",
              "      filter: drop-shadow(0px 1px 2px rgba(0, 0, 0, 0.3));\n",
              "      fill: #FFFFFF;\n",
              "    }\n",
              "  </style>\n",
              "\n",
              "    <script>\n",
              "      const buttonEl =\n",
              "        document.querySelector('#df-fd5b88bf-5a44-425b-9aff-a830d578d2dd button.colab-df-convert');\n",
              "      buttonEl.style.display =\n",
              "        google.colab.kernel.accessAllowed ? 'block' : 'none';\n",
              "\n",
              "      async function convertToInteractive(key) {\n",
              "        const element = document.querySelector('#df-fd5b88bf-5a44-425b-9aff-a830d578d2dd');\n",
              "        const dataTable =\n",
              "          await google.colab.kernel.invokeFunction('convertToInteractive',\n",
              "                                                    [key], {});\n",
              "        if (!dataTable) return;\n",
              "\n",
              "        const docLinkHtml = 'Like what you see? Visit the ' +\n",
              "          '<a target=\"_blank\" href=https://colab.research.google.com/notebooks/data_table.ipynb>data table notebook</a>'\n",
              "          + ' to learn more about interactive tables.';\n",
              "        element.innerHTML = '';\n",
              "        dataTable['output_type'] = 'display_data';\n",
              "        await google.colab.output.renderOutput(dataTable, element);\n",
              "        const docLink = document.createElement('div');\n",
              "        docLink.innerHTML = docLinkHtml;\n",
              "        element.appendChild(docLink);\n",
              "      }\n",
              "    </script>\n",
              "  </div>\n",
              "\n",
              "\n",
              "<div id=\"df-ee07fcfc-ed50-426b-a503-2c2e7c84f261\">\n",
              "  <button class=\"colab-df-quickchart\" onclick=\"quickchart('df-ee07fcfc-ed50-426b-a503-2c2e7c84f261')\"\n",
              "            title=\"Suggest charts\"\n",
              "            style=\"display:none;\">\n",
              "\n",
              "<svg xmlns=\"http://www.w3.org/2000/svg\" height=\"24px\"viewBox=\"0 0 24 24\"\n",
              "     width=\"24px\">\n",
              "    <g>\n",
              "        <path d=\"M19 3H5c-1.1 0-2 .9-2 2v14c0 1.1.9 2 2 2h14c1.1 0 2-.9 2-2V5c0-1.1-.9-2-2-2zM9 17H7v-7h2v7zm4 0h-2V7h2v10zm4 0h-2v-4h2v4z\"/>\n",
              "    </g>\n",
              "</svg>\n",
              "  </button>\n",
              "\n",
              "<style>\n",
              "  .colab-df-quickchart {\n",
              "      --bg-color: #E8F0FE;\n",
              "      --fill-color: #1967D2;\n",
              "      --hover-bg-color: #E2EBFA;\n",
              "      --hover-fill-color: #174EA6;\n",
              "      --disabled-fill-color: #AAA;\n",
              "      --disabled-bg-color: #DDD;\n",
              "  }\n",
              "\n",
              "  [theme=dark] .colab-df-quickchart {\n",
              "      --bg-color: #3B4455;\n",
              "      --fill-color: #D2E3FC;\n",
              "      --hover-bg-color: #434B5C;\n",
              "      --hover-fill-color: #FFFFFF;\n",
              "      --disabled-bg-color: #3B4455;\n",
              "      --disabled-fill-color: #666;\n",
              "  }\n",
              "\n",
              "  .colab-df-quickchart {\n",
              "    background-color: var(--bg-color);\n",
              "    border: none;\n",
              "    border-radius: 50%;\n",
              "    cursor: pointer;\n",
              "    display: none;\n",
              "    fill: var(--fill-color);\n",
              "    height: 32px;\n",
              "    padding: 0;\n",
              "    width: 32px;\n",
              "  }\n",
              "\n",
              "  .colab-df-quickchart:hover {\n",
              "    background-color: var(--hover-bg-color);\n",
              "    box-shadow: 0 1px 2px rgba(60, 64, 67, 0.3), 0 1px 3px 1px rgba(60, 64, 67, 0.15);\n",
              "    fill: var(--button-hover-fill-color);\n",
              "  }\n",
              "\n",
              "  .colab-df-quickchart-complete:disabled,\n",
              "  .colab-df-quickchart-complete:disabled:hover {\n",
              "    background-color: var(--disabled-bg-color);\n",
              "    fill: var(--disabled-fill-color);\n",
              "    box-shadow: none;\n",
              "  }\n",
              "\n",
              "  .colab-df-spinner {\n",
              "    border: 2px solid var(--fill-color);\n",
              "    border-color: transparent;\n",
              "    border-bottom-color: var(--fill-color);\n",
              "    animation:\n",
              "      spin 1s steps(1) infinite;\n",
              "  }\n",
              "\n",
              "  @keyframes spin {\n",
              "    0% {\n",
              "      border-color: transparent;\n",
              "      border-bottom-color: var(--fill-color);\n",
              "      border-left-color: var(--fill-color);\n",
              "    }\n",
              "    20% {\n",
              "      border-color: transparent;\n",
              "      border-left-color: var(--fill-color);\n",
              "      border-top-color: var(--fill-color);\n",
              "    }\n",
              "    30% {\n",
              "      border-color: transparent;\n",
              "      border-left-color: var(--fill-color);\n",
              "      border-top-color: var(--fill-color);\n",
              "      border-right-color: var(--fill-color);\n",
              "    }\n",
              "    40% {\n",
              "      border-color: transparent;\n",
              "      border-right-color: var(--fill-color);\n",
              "      border-top-color: var(--fill-color);\n",
              "    }\n",
              "    60% {\n",
              "      border-color: transparent;\n",
              "      border-right-color: var(--fill-color);\n",
              "    }\n",
              "    80% {\n",
              "      border-color: transparent;\n",
              "      border-right-color: var(--fill-color);\n",
              "      border-bottom-color: var(--fill-color);\n",
              "    }\n",
              "    90% {\n",
              "      border-color: transparent;\n",
              "      border-bottom-color: var(--fill-color);\n",
              "    }\n",
              "  }\n",
              "</style>\n",
              "\n",
              "  <script>\n",
              "    async function quickchart(key) {\n",
              "      const quickchartButtonEl =\n",
              "        document.querySelector('#' + key + ' button');\n",
              "      quickchartButtonEl.disabled = true;  // To prevent multiple clicks.\n",
              "      quickchartButtonEl.classList.add('colab-df-spinner');\n",
              "      try {\n",
              "        const charts = await google.colab.kernel.invokeFunction(\n",
              "            'suggestCharts', [key], {});\n",
              "      } catch (error) {\n",
              "        console.error('Error during call to suggestCharts:', error);\n",
              "      }\n",
              "      quickchartButtonEl.classList.remove('colab-df-spinner');\n",
              "      quickchartButtonEl.classList.add('colab-df-quickchart-complete');\n",
              "    }\n",
              "    (() => {\n",
              "      let quickchartButtonEl =\n",
              "        document.querySelector('#df-ee07fcfc-ed50-426b-a503-2c2e7c84f261 button');\n",
              "      quickchartButtonEl.style.display =\n",
              "        google.colab.kernel.accessAllowed ? 'block' : 'none';\n",
              "    })();\n",
              "  </script>\n",
              "</div>\n",
              "\n",
              "    </div>\n",
              "  </div>\n"
            ],
            "application/vnd.google.colaboratory.intrinsic+json": {
              "type": "dataframe",
              "variable_name": "df",
              "summary": "{\n  \"name\": \"df\",\n  \"rows\": 2456,\n  \"fields\": [\n    {\n      \"column\": \"Date\",\n      \"properties\": {\n        \"dtype\": \"date\",\n        \"min\": \"2011-06-01 00:00:00\",\n        \"max\": \"2021-04-30 00:00:00\",\n        \"num_unique_values\": 2456,\n        \"samples\": [\n          \"2016-09-12 00:00:00\",\n          \"2013-11-26 00:00:00\",\n          \"2018-11-27 00:00:00\"\n        ],\n        \"semantic_type\": \"\",\n        \"description\": \"\"\n      }\n    },\n    {\n      \"column\": \"Symbol\",\n      \"properties\": {\n        \"dtype\": \"category\",\n        \"num_unique_values\": 1,\n        \"samples\": [\n          \"NESTLEIND\"\n        ],\n        \"semantic_type\": \"\",\n        \"description\": \"\"\n      }\n    },\n    {\n      \"column\": \"Series\",\n      \"properties\": {\n        \"dtype\": \"category\",\n        \"num_unique_values\": 1,\n        \"samples\": [\n          \"EQ\"\n        ],\n        \"semantic_type\": \"\",\n        \"description\": \"\"\n      }\n    },\n    {\n      \"column\": \"Prev Close\",\n      \"properties\": {\n        \"dtype\": \"number\",\n        \"std\": 4117.431773263395,\n        \"min\": 3887.9,\n        \"max\": 18732.7,\n        \"num_unique_values\": 2435,\n        \"samples\": [\n          14685.85\n        ],\n        \"semantic_type\": \"\",\n        \"description\": \"\"\n      }\n    },\n    {\n      \"column\": \"Open\",\n      \"properties\": {\n        \"dtype\": \"number\",\n        \"std\": 4126.472833916156,\n        \"min\": 3879.0,\n        \"max\": 18844.0,\n        \"num_unique_values\": 2076,\n        \"samples\": [\n          4698.9\n        ],\n        \"semantic_type\": \"\",\n        \"description\": \"\"\n      }\n    },\n    {\n      \"column\": \"High\",\n      \"properties\": {\n        \"dtype\": \"number\",\n        \"std\": 4172.316441039753,\n        \"min\": 3936.9,\n        \"max\": 18844.0,\n        \"num_unique_values\": 2122,\n        \"samples\": [\n          9898.6\n        ],\n        \"semantic_type\": \"\",\n        \"description\": \"\"\n      }\n    },\n    {\n      \"column\": \"Low\",\n      \"properties\": {\n        \"dtype\": \"number\",\n        \"std\": 4069.4228775752063,\n        \"min\": 3855.0,\n        \"max\": 18520.0,\n        \"num_unique_values\": 2160,\n        \"samples\": [\n          18250.15\n        ],\n        \"semantic_type\": \"\",\n        \"description\": \"\"\n      }\n    },\n    {\n      \"column\": \"Last\",\n      \"properties\": {\n        \"dtype\": \"number\",\n        \"std\": 4119.526642613997,\n        \"min\": 3876.35,\n        \"max\": 18720.0,\n        \"num_unique_values\": 2007,\n        \"samples\": [\n          17396.1\n        ],\n        \"semantic_type\": \"\",\n        \"description\": \"\"\n      }\n    },\n    {\n      \"column\": \"Close\",\n      \"properties\": {\n        \"dtype\": \"number\",\n        \"std\": 4119.933284815926,\n        \"min\": 3887.9,\n        \"max\": 18732.7,\n        \"num_unique_values\": 2435,\n        \"samples\": [\n          14658.25\n        ],\n        \"semantic_type\": \"\",\n        \"description\": \"\"\n      }\n    },\n    {\n      \"column\": \"VWAP\",\n      \"properties\": {\n        \"dtype\": \"number\",\n        \"std\": 4119.932963435706,\n        \"min\": 3896.22,\n        \"max\": 18683.52,\n        \"num_unique_values\": 2450,\n        \"samples\": [\n          6764.04\n        ],\n        \"semantic_type\": \"\",\n        \"description\": \"\"\n      }\n    },\n    {\n      \"column\": \"Volume\",\n      \"properties\": {\n        \"dtype\": \"number\",\n        \"std\": 70288,\n        \"min\": 305,\n        \"max\": 1106746,\n        \"num_unique_values\": 2426,\n        \"samples\": [\n          60187\n        ],\n        \"semantic_type\": \"\",\n        \"description\": \"\"\n      }\n    },\n    {\n      \"column\": \"Turnover\",\n      \"properties\": {\n        \"dtype\": \"number\",\n        \"std\": 100204166698267.95,\n        \"min\": 125847414999.99998,\n        \"max\": 1979044099645000.0,\n        \"num_unique_values\": 2456,\n        \"samples\": [\n          11023286005000.0\n        ],\n        \"semantic_type\": \"\",\n        \"description\": \"\"\n      }\n    },\n    {\n      \"column\": \"Trades\",\n      \"properties\": {\n        \"dtype\": \"number\",\n        \"std\": 12405.830783804466,\n        \"min\": 63.0,\n        \"max\": 122364.0,\n        \"num_unique_values\": 2306,\n        \"samples\": [\n          13399.0\n        ],\n        \"semantic_type\": \"\",\n        \"description\": \"\"\n      }\n    },\n    {\n      \"column\": \"Deliverable Volume\",\n      \"properties\": {\n        \"dtype\": \"number\",\n        \"std\": 43911,\n        \"min\": 135,\n        \"max\": 929598,\n        \"num_unique_values\": 2413,\n        \"samples\": [\n          12554\n        ],\n        \"semantic_type\": \"\",\n        \"description\": \"\"\n      }\n    },\n    {\n      \"column\": \"%Deliverble\",\n      \"properties\": {\n        \"dtype\": \"number\",\n        \"std\": 0.16314296194072764,\n        \"min\": 0.131,\n        \"max\": 0.9888,\n        \"num_unique_values\": 2023,\n        \"samples\": [\n          0.9888\n        ],\n        \"semantic_type\": \"\",\n        \"description\": \"\"\n      }\n    }\n  ]\n}"
            }
          },
          "metadata": {},
          "execution_count": 18
        }
      ],
      "source": [
        "df.head()"
      ]
    },
    {
      "cell_type": "code",
      "execution_count": null,
      "metadata": {
        "colab": {
          "base_uri": "https://localhost:8080/",
          "height": 489
        },
        "id": "vnSiFnJ2xIBU",
        "outputId": "85c68849-0009-41cd-ba51-0b2ddc001f69"
      },
      "outputs": [
        {
          "output_type": "display_data",
          "data": {
            "text/plain": [
              "<Figure size 640x480 with 1 Axes>"
            ],
            "image/png": "[encoded data removed]"
          },
          "metadata": {}
        }
      ],
      "source": [
        "# Plot giá vào\n",
        "df['Close'].plot(grid = True)\n",
        "sns.set(rc={'figure.figsize':(15, 9)})\n",
        "plt.title('Giá đóng cửa điều chỉnh của NESTLEIND', color = 'black', fontsize = 20)\n",
        "plt.xlabel('Năm', color = 'black', fontsize = 15)\n",
        "plt.ylabel('Giá cổ phiếu', color = 'black', fontsize = 15);"
      ]
    },
    {
      "cell_type": "markdown",
      "metadata": {
        "id": "wfHjUxHX_J1y"
      },
      "source": [
        "****\n",
        "\n",
        "\n",
        "\n"
      ]
    },
    {
      "cell_type": "markdown",
      "metadata": {
        "id": "zwJsiO_jIeuK"
      },
      "source": [
        "# **UNIQUE**"
      ]
    },
    {
      "cell_type": "code",
      "execution_count": null,
      "metadata": {
        "colab": {
          "base_uri": "https://localhost:8080/"
        },
        "id": "0DUvkDy1Iegc",
        "outputId": "a7aae3ea-62b6-4d40-e63d-c3164d81f0bb"
      },
      "outputs": [
        {
          "name": "stdout",
          "output_type": "stream",
          "text": [
            "Column 'Date' has 2456 unique values\n",
            "Column 'Symbol' has 1 unique values\n",
            "Column 'Series' has 1 unique values\n",
            "Column 'Prev Close' has 2435 unique values\n",
            "Column 'Open' has 2076 unique values\n",
            "Column 'High' has 2122 unique values\n",
            "Column 'Low' has 2160 unique values\n",
            "Column 'Last' has 2007 unique values\n",
            "Column 'Close' has 2435 unique values\n",
            "Column 'VWAP' has 2450 unique values\n",
            "Column 'Volume' has 2426 unique values\n",
            "Column 'Turnover' has 2456 unique values\n",
            "Column 'Trades' has 2306 unique values\n",
            "Column 'Deliverable Volume' has 2413 unique values\n",
            "Column '%Deliverble' has 2023 unique values\n"
          ]
        }
      ],
      "source": [
        "# Kiểm tra các giá trị duy nhất trong từng cột\n",
        "for column in df.columns:\n",
        "    unique_values = df[column].unique()\n",
        "    print(f\"Column '{column}' has {len(unique_values)} unique values\")\n"
      ]
    },
    {
      "cell_type": "markdown",
      "metadata": {
        "id": "4zRjLpjKj6D-"
      },
      "source": [
        "Đường trung bình động - Moving Average\n",
        "\n",
        "*   List item\n",
        "*   List item\n",
        "\n",
        "\n",
        "\n",
        "Đường trung bình động là một chỉ số phân tích kỹ thuật đơn giản, theo đó quan sát tiếp theo là giá trị trung bình của tất cả các quan sát trong quá khứ tạo ra một mức giá trung bình được cập nhật liên tục.\n",
        "\n"
      ]
    },
    {
      "cell_type": "code",
      "execution_count": null,
      "metadata": {
        "colab": {
          "base_uri": "https://localhost:8080/",
          "height": 423
        },
        "id": "hYdCjR6ODW8-",
        "outputId": "a74afaa7-4215-4a84-8a49-e00ea36e3e24"
      },
      "outputs": [
        {
          "output_type": "execute_result",
          "data": {
            "text/plain": [
              "         Close\n",
              "350    4104.45\n",
              "351    4105.20\n",
              "352    4093.25\n",
              "353    4141.25\n",
              "354    4165.10\n",
              "...        ...\n",
              "2801  16870.60\n",
              "2802  16779.00\n",
              "2803  16633.80\n",
              "2804  16502.55\n",
              "2805  16309.25\n",
              "\n",
              "[2456 rows x 1 columns]"
            ],
            "text/html": [
              "\n",
              "  <div id=\"df-805556d6-09da-4d24-b6c9-7499cb6b32b4\" class=\"colab-df-container\">\n",
              "    <div>\n",
              "<style scoped>\n",
              "    .dataframe tbody tr th:only-of-type {\n",
              "        vertical-align: middle;\n",
              "    }\n",
              "\n",
              "    .dataframe tbody tr th {\n",
              "        vertical-align: top;\n",
              "    }\n",
              "\n",
              "    .dataframe thead th {\n",
              "        text-align: right;\n",
              "    }\n",
              "</style>\n",
              "<table border=\"1\" class=\"dataframe\">\n",
              "  <thead>\n",
              "    <tr style=\"text-align: right;\">\n",
              "      <th></th>\n",
              "      <th>Close</th>\n",
              "    </tr>\n",
              "  </thead>\n",
              "  <tbody>\n",
              "    <tr>\n",
              "      <th>350</th>\n",
              "      <td>4104.45</td>\n",
              "    </tr>\n",
              "    <tr>\n",
              "      <th>351</th>\n",
              "      <td>4105.20</td>\n",
              "    </tr>\n",
              "    <tr>\n",
              "      <th>352</th>\n",
              "      <td>4093.25</td>\n",
              "    </tr>\n",
              "    <tr>\n",
              "      <th>353</th>\n",
              "      <td>4141.25</td>\n",
              "    </tr>\n",
              "    <tr>\n",
              "      <th>354</th>\n",
              "      <td>4165.10</td>\n",
              "    </tr>\n",
              "    <tr>\n",
              "      <th>...</th>\n",
              "      <td>...</td>\n",
              "    </tr>\n",
              "    <tr>\n",
              "      <th>2801</th>\n",
              "      <td>16870.60</td>\n",
              "    </tr>\n",
              "    <tr>\n",
              "      <th>2802</th>\n",
              "      <td>16779.00</td>\n",
              "    </tr>\n",
              "    <tr>\n",
              "      <th>2803</th>\n",
              "      <td>16633.80</td>\n",
              "    </tr>\n",
              "    <tr>\n",
              "      <th>2804</th>\n",
              "      <td>16502.55</td>\n",
              "    </tr>\n",
              "    <tr>\n",
              "      <th>2805</th>\n",
              "      <td>16309.25</td>\n",
              "    </tr>\n",
              "  </tbody>\n",
              "</table>\n",
              "<p>2456 rows × 1 columns</p>\n",
              "</div>\n",
              "    <div class=\"colab-df-buttons\">\n",
              "\n",
              "  <div class=\"colab-df-container\">\n",
              "    <button class=\"colab-df-convert\" onclick=\"convertToInteractive('df-805556d6-09da-4d24-b6c9-7499cb6b32b4')\"\n",
              "            title=\"Convert this dataframe to an interactive table.\"\n",
              "            style=\"display:none;\">\n",
              "\n",
              "  <svg xmlns=\"http://www.w3.org/2000/svg\" height=\"24px\" viewBox=\"0 -960 960 960\">\n",
              "    <path d=\"M120-120v-720h720v720H120Zm60-500h600v-160H180v160Zm220 220h160v-160H400v160Zm0 220h160v-160H400v160ZM180-400h160v-160H180v160Zm440 0h160v-160H620v160ZM180-180h160v-160H180v160Zm440 0h160v-160H620v160Z\"/>\n",
              "  </svg>\n",
              "    </button>\n",
              "\n",
              "  <style>\n",
              "    .colab-df-container {\n",
              "      display:flex;\n",
              "      gap: 12px;\n",
              "    }\n",
              "\n",
              "    .colab-df-convert {\n",
              "      background-color: #E8F0FE;\n",
              "      border: none;\n",
              "      border-radius: 50%;\n",
              "      cursor: pointer;\n",
              "      display: none;\n",
              "      fill: #1967D2;\n",
              "      height: 32px;\n",
              "      padding: 0 0 0 0;\n",
              "      width: 32px;\n",
              "    }\n",
              "\n",
              "    .colab-df-convert:hover {\n",
              "      background-color: #E2EBFA;\n",
              "      box-shadow: 0px 1px 2px rgba(60, 64, 67, 0.3), 0px 1px 3px 1px rgba(60, 64, 67, 0.15);\n",
              "      fill: #174EA6;\n",
              "    }\n",
              "\n",
              "    .colab-df-buttons div {\n",
              "      margin-bottom: 4px;\n",
              "    }\n",
              "\n",
              "    [theme=dark] .colab-df-convert {\n",
              "      background-color: #3B4455;\n",
              "      fill: #D2E3FC;\n",
              "    }\n",
              "\n",
              "    [theme=dark] .colab-df-convert:hover {\n",
              "      background-color: #434B5C;\n",
              "      box-shadow: 0px 1px 3px 1px rgba(0, 0, 0, 0.15);\n",
              "      filter: drop-shadow(0px 1px 2px rgba(0, 0, 0, 0.3));\n",
              "      fill: #FFFFFF;\n",
              "    }\n",
              "  </style>\n",
              "\n",
              "    <script>\n",
              "      const buttonEl =\n",
              "        document.querySelector('#df-805556d6-09da-4d24-b6c9-7499cb6b32b4 button.colab-df-convert');\n",
              "      buttonEl.style.display =\n",
              "        google.colab.kernel.accessAllowed ? 'block' : 'none';\n",
              "\n",
              "      async function convertToInteractive(key) {\n",
              "        const element = document.querySelector('#df-805556d6-09da-4d24-b6c9-7499cb6b32b4');\n",
              "        const dataTable =\n",
              "          await google.colab.kernel.invokeFunction('convertToInteractive',\n",
              "                                                    [key], {});\n",
              "        if (!dataTable) return;\n",
              "\n",
              "        const docLinkHtml = 'Like what you see? Visit the ' +\n",
              "          '<a target=\"_blank\" href=https://colab.research.google.com/notebooks/data_table.ipynb>data table notebook</a>'\n",
              "          + ' to learn more about interactive tables.';\n",
              "        element.innerHTML = '';\n",
              "        dataTable['output_type'] = 'display_data';\n",
              "        await google.colab.output.renderOutput(dataTable, element);\n",
              "        const docLink = document.createElement('div');\n",
              "        docLink.innerHTML = docLinkHtml;\n",
              "        element.appendChild(docLink);\n",
              "      }\n",
              "    </script>\n",
              "  </div>\n",
              "\n",
              "\n",
              "<div id=\"df-b8521d3e-eb15-431b-9ea1-b6c33d6f147d\">\n",
              "  <button class=\"colab-df-quickchart\" onclick=\"quickchart('df-b8521d3e-eb15-431b-9ea1-b6c33d6f147d')\"\n",
              "            title=\"Suggest charts\"\n",
              "            style=\"display:none;\">\n",
              "\n",
              "<svg xmlns=\"http://www.w3.org/2000/svg\" height=\"24px\"viewBox=\"0 0 24 24\"\n",
              "     width=\"24px\">\n",
              "    <g>\n",
              "        <path d=\"M19 3H5c-1.1 0-2 .9-2 2v14c0 1.1.9 2 2 2h14c1.1 0 2-.9 2-2V5c0-1.1-.9-2-2-2zM9 17H7v-7h2v7zm4 0h-2V7h2v10zm4 0h-2v-4h2v4z\"/>\n",
              "    </g>\n",
              "</svg>\n",
              "  </button>\n",
              "\n",
              "<style>\n",
              "  .colab-df-quickchart {\n",
              "      --bg-color: #E8F0FE;\n",
              "      --fill-color: #1967D2;\n",
              "      --hover-bg-color: #E2EBFA;\n",
              "      --hover-fill-color: #174EA6;\n",
              "      --disabled-fill-color: #AAA;\n",
              "      --disabled-bg-color: #DDD;\n",
              "  }\n",
              "\n",
              "  [theme=dark] .colab-df-quickchart {\n",
              "      --bg-color: #3B4455;\n",
              "      --fill-color: #D2E3FC;\n",
              "      --hover-bg-color: #434B5C;\n",
              "      --hover-fill-color: #FFFFFF;\n",
              "      --disabled-bg-color: #3B4455;\n",
              "      --disabled-fill-color: #666;\n",
              "  }\n",
              "\n",
              "  .colab-df-quickchart {\n",
              "    background-color: var(--bg-color);\n",
              "    border: none;\n",
              "    border-radius: 50%;\n",
              "    cursor: pointer;\n",
              "    display: none;\n",
              "    fill: var(--fill-color);\n",
              "    height: 32px;\n",
              "    padding: 0;\n",
              "    width: 32px;\n",
              "  }\n",
              "\n",
              "  .colab-df-quickchart:hover {\n",
              "    background-color: var(--hover-bg-color);\n",
              "    box-shadow: 0 1px 2px rgba(60, 64, 67, 0.3), 0 1px 3px 1px rgba(60, 64, 67, 0.15);\n",
              "    fill: var(--button-hover-fill-color);\n",
              "  }\n",
              "\n",
              "  .colab-df-quickchart-complete:disabled,\n",
              "  .colab-df-quickchart-complete:disabled:hover {\n",
              "    background-color: var(--disabled-bg-color);\n",
              "    fill: var(--disabled-fill-color);\n",
              "    box-shadow: none;\n",
              "  }\n",
              "\n",
              "  .colab-df-spinner {\n",
              "    border: 2px solid var(--fill-color);\n",
              "    border-color: transparent;\n",
              "    border-bottom-color: var(--fill-color);\n",
              "    animation:\n",
              "      spin 1s steps(1) infinite;\n",
              "  }\n",
              "\n",
              "  @keyframes spin {\n",
              "    0% {\n",
              "      border-color: transparent;\n",
              "      border-bottom-color: var(--fill-color);\n",
              "      border-left-color: var(--fill-color);\n",
              "    }\n",
              "    20% {\n",
              "      border-color: transparent;\n",
              "      border-left-color: var(--fill-color);\n",
              "      border-top-color: var(--fill-color);\n",
              "    }\n",
              "    30% {\n",
              "      border-color: transparent;\n",
              "      border-left-color: var(--fill-color);\n",
              "      border-top-color: var(--fill-color);\n",
              "      border-right-color: var(--fill-color);\n",
              "    }\n",
              "    40% {\n",
              "      border-color: transparent;\n",
              "      border-right-color: var(--fill-color);\n",
              "      border-top-color: var(--fill-color);\n",
              "    }\n",
              "    60% {\n",
              "      border-color: transparent;\n",
              "      border-right-color: var(--fill-color);\n",
              "    }\n",
              "    80% {\n",
              "      border-color: transparent;\n",
              "      border-right-color: var(--fill-color);\n",
              "      border-bottom-color: var(--fill-color);\n",
              "    }\n",
              "    90% {\n",
              "      border-color: transparent;\n",
              "      border-bottom-color: var(--fill-color);\n",
              "    }\n",
              "  }\n",
              "</style>\n",
              "\n",
              "  <script>\n",
              "    async function quickchart(key) {\n",
              "      const quickchartButtonEl =\n",
              "        document.querySelector('#' + key + ' button');\n",
              "      quickchartButtonEl.disabled = true;  // To prevent multiple clicks.\n",
              "      quickchartButtonEl.classList.add('colab-df-spinner');\n",
              "      try {\n",
              "        const charts = await google.colab.kernel.invokeFunction(\n",
              "            'suggestCharts', [key], {});\n",
              "      } catch (error) {\n",
              "        console.error('Error during call to suggestCharts:', error);\n",
              "      }\n",
              "      quickchartButtonEl.classList.remove('colab-df-spinner');\n",
              "      quickchartButtonEl.classList.add('colab-df-quickchart-complete');\n",
              "    }\n",
              "    (() => {\n",
              "      let quickchartButtonEl =\n",
              "        document.querySelector('#df-b8521d3e-eb15-431b-9ea1-b6c33d6f147d button');\n",
              "      quickchartButtonEl.style.display =\n",
              "        google.colab.kernel.accessAllowed ? 'block' : 'none';\n",
              "    })();\n",
              "  </script>\n",
              "</div>\n",
              "\n",
              "  <div id=\"id_055ecbcf-b8a9-4c8b-8c55-ca1c5d1d6203\">\n",
              "    <style>\n",
              "      .colab-df-generate {\n",
              "        background-color: #E8F0FE;\n",
              "        border: none;\n",
              "        border-radius: 50%;\n",
              "        cursor: pointer;\n",
              "        display: none;\n",
              "        fill: #1967D2;\n",
              "        height: 32px;\n",
              "        padding: 0 0 0 0;\n",
              "        width: 32px;\n",
              "      }\n",
              "\n",
              "      .colab-df-generate:hover {\n",
              "        background-color: #E2EBFA;\n",
              "        box-shadow: 0px 1px 2px rgba(60, 64, 67, 0.3), 0px 1px 3px 1px rgba(60, 64, 67, 0.15);\n",
              "        fill: #174EA6;\n",
              "      }\n",
              "\n",
              "      [theme=dark] .colab-df-generate {\n",
              "        background-color: #3B4455;\n",
              "        fill: #D2E3FC;\n",
              "      }\n",
              "\n",
              "      [theme=dark] .colab-df-generate:hover {\n",
              "        background-color: #434B5C;\n",
              "        box-shadow: 0px 1px 3px 1px rgba(0, 0, 0, 0.15);\n",
              "        filter: drop-shadow(0px 1px 2px rgba(0, 0, 0, 0.3));\n",
              "        fill: #FFFFFF;\n",
              "      }\n",
              "    </style>\n",
              "    <button class=\"colab-df-generate\" onclick=\"generateWithVariable('msft_adj')\"\n",
              "            title=\"Generate code using this dataframe.\"\n",
              "            style=\"display:none;\">\n",
              "\n",
              "  <svg xmlns=\"http://www.w3.org/2000/svg\" height=\"24px\"viewBox=\"0 0 24 24\"\n",
              "       width=\"24px\">\n",
              "    <path d=\"M7,19H8.4L18.45,9,17,7.55,7,17.6ZM5,21V16.75L18.45,3.32a2,2,0,0,1,2.83,0l1.4,1.43a1.91,1.91,0,0,1,.58,1.4,1.91,1.91,0,0,1-.58,1.4L9.25,21ZM18.45,9,17,7.55Zm-12,3A5.31,5.31,0,0,0,4.9,8.1,5.31,5.31,0,0,0,1,6.5,5.31,5.31,0,0,0,4.9,4.9,5.31,5.31,0,0,0,6.5,1,5.31,5.31,0,0,0,8.1,4.9,5.31,5.31,0,0,0,12,6.5,5.46,5.46,0,0,0,6.5,12Z\"/>\n",
              "  </svg>\n",
              "    </button>\n",
              "    <script>\n",
              "      (() => {\n",
              "      const buttonEl =\n",
              "        document.querySelector('#id_055ecbcf-b8a9-4c8b-8c55-ca1c5d1d6203 button.colab-df-generate');\n",
              "      buttonEl.style.display =\n",
              "        google.colab.kernel.accessAllowed ? 'block' : 'none';\n",
              "\n",
              "      buttonEl.onclick = () => {\n",
              "        google.colab.notebook.generateWithVariable('msft_adj');\n",
              "      }\n",
              "      })();\n",
              "    </script>\n",
              "  </div>\n",
              "\n",
              "    </div>\n",
              "  </div>\n"
            ],
            "application/vnd.google.colaboratory.intrinsic+json": {
              "type": "dataframe",
              "variable_name": "msft_adj",
              "summary": "{\n  \"name\": \"msft_adj\",\n  \"rows\": 2456,\n  \"fields\": [\n    {\n      \"column\": \"Close\",\n      \"properties\": {\n        \"dtype\": \"number\",\n        \"std\": 4119.933284815926,\n        \"min\": 3887.9,\n        \"max\": 18732.7,\n        \"num_unique_values\": 2435,\n        \"samples\": [\n          14658.25,\n          6961.6,\n          6819.55\n        ],\n        \"semantic_type\": \"\",\n        \"description\": \"\"\n      }\n    }\n  ]\n}"
            }
          },
          "metadata": {},
          "execution_count": 24
        }
      ],
      "source": [
        "# Tạo DataFrame cho Giá đóng cửa\n",
        "\n",
        "msft_adj = df[['Close']]\n",
        "msft_adj"
      ]
    },
    {
      "cell_type": "code",
      "execution_count": null,
      "metadata": {
        "id": "dnUwUy436ouC"
      },
      "outputs": [],
      "source": []
    },
    {
      "cell_type": "markdown",
      "metadata": {
        "id": "kYKZFJgwnCWc"
      },
      "source": [
        "\n",
        "### Split dữ liệu\n",
        "\n",
        "Chúng ta sẽ chia dữ liệu thành train set và test set để xác minh kết quả dự đoán. Vì đây là dữ liệu dạng Time series nên ta không thể chia ngẫu nhiên được. Vậy nên là ta sẽ chia 80% đầu là train set và 20% còn lại là test set."
      ]
    },
    {
      "cell_type": "code",
      "execution_count": null,
      "metadata": {
        "id": "p4PW5qfTGklf"
      },
      "outputs": [],
      "source": [
        "# Tạo split tỉ lệ 80%/20%\n",
        "\n",
        "split = int(0.8*len(msft_adj))"
      ]
    },
    {
      "cell_type": "code",
      "execution_count": null,
      "metadata": {
        "id": "mtTCNhaW-egV"
      },
      "outputs": [],
      "source": [
        "# Chia thành train và test set\n",
        "\n",
        "train, test = msft_adj[:split], msft_adj[split:]"
      ]
    },
    {
      "cell_type": "code",
      "execution_count": null,
      "metadata": {
        "colab": {
          "base_uri": "https://localhost:8080/"
        },
        "id": "UEaffxhfAzwj",
        "outputId": "0a60d497-05e4-406c-e482-e507f47c42b5"
      },
      "outputs": [
        {
          "output_type": "execute_result",
          "data": {
            "text/plain": [
              "((2456, 1), (1964, 1), (492, 1))"
            ]
          },
          "metadata": {},
          "execution_count": 27
        }
      ],
      "source": [
        "msft_adj.shape, train.shape, test.shape"
      ]
    },
    {
      "cell_type": "code",
      "execution_count": null,
      "metadata": {
        "colab": {
          "base_uri": "https://localhost:8080/"
        },
        "id": "EiB0F4ZlD6gE",
        "outputId": "9702a265-885b-4b00-c288-c3a0e71c35cc"
      },
      "outputs": [
        {
          "output_type": "execute_result",
          "data": {
            "text/plain": [
              "(350, 2313, 2314, 2805)"
            ]
          },
          "metadata": {},
          "execution_count": 28
        }
      ],
      "source": [
        "train.index.min(), train.index.max(), test.index.min(), test.index.max()"
      ]
    },
    {
      "cell_type": "markdown",
      "metadata": {
        "id": "nwp54B7anUYR"
      },
      "source": [
        "### Tạo dự đoán cho test set"
      ]
    },
    {
      "cell_type": "code",
      "execution_count": null,
      "metadata": {
        "id": "l1HVTcNfFTJ6"
      },
      "outputs": [],
      "source": [
        "# Tạo dự đoán\n",
        "preds = []\n",
        "for i in range(0,492):\n",
        "    a = train[len(train)-492+i:].sum() + sum(preds)\n",
        "    b = a/492\n",
        "    preds.append(b)"
      ]
    },
    {
      "cell_type": "markdown",
      "metadata": {
        "id": "BeMRICdcnkOH"
      },
      "source": [
        "### Tính chỉ số RMSE\n",
        "\n",
        "Chúng ta sẽ đánh giá mô hình bằng cách tính toán chỉ số RMSE hoặc Độ lệch gốc-trung bình-bình phương (Root-mean-square deviation), một thước đo tốt để xem xét mức độ chính xác của các mô hình dự đoán phản hồi."
      ]
    },
    {
      "cell_type": "code",
      "execution_count": null,
      "metadata": {
        "colab": {
          "base_uri": "https://localhost:8080/"
        },
        "id": "42cAnN8HSGhj",
        "outputId": "94b749b6-7d79-40e8-e194-836f04272ed8"
      },
      "outputs": [
        {
          "output_type": "execute_result",
          "data": {
            "text/plain": [
              "6006.1415307835505"
            ]
          },
          "metadata": {},
          "execution_count": 30
        }
      ],
      "source": [
        "# Tính rmse\n",
        "rmse = np.sqrt(np.mean(np.power((np.array(test)-preds),2)))\n",
        "rmse"
      ]
    },
    {
      "cell_type": "markdown",
      "metadata": {
        "id": "fcmId-idoAtP"
      },
      "source": [
        "### Trực quan hóa các dữ liệu dự đoán và thực tế"
      ]
    },
    {
      "cell_type": "code",
      "execution_count": null,
      "metadata": {
        "colab": {
          "base_uri": "https://localhost:8080/",
          "height": 640
        },
        "id": "eN7Bn0nnR82g",
        "outputId": "7f7c107b-4fdd-4491-b517-0194afac119b"
      },
      "outputs": [
        {
          "output_type": "display_data",
          "data": {
            "text/plain": [
              "<Figure size 2000x1000 with 1 Axes>"
            ],
            "image/png": "[encoded data removed]"
          },
          "metadata": {}
        }
      ],
      "source": [
        "# Plot thông số dự đoán và thực tế\n",
        "plt.figure(figsize=(20,10))\n",
        "sns.set_style(\"whitegrid\")\n",
        "test['Predictions'] = 0\n",
        "test['Predictions'] = preds\n",
        "plt.plot(train, label='Training')\n",
        "plt.plot(test['Close'], label='Actual')\n",
        "plt.plot(test['Predictions'], label='Predicted')\n",
        "plt.title(\"Giá đóng cửa - Đường trung bình động\", color = 'black', fontsize = 20)\n",
        "plt.xlabel('Năm', color = 'black', fontsize = 15)\n",
        "plt.ylabel('Giá chứng khoán', color = 'black', fontsize = 15)\n",
        "plt.legend();"
      ]
    },
    {
      "cell_type": "markdown",
      "metadata": {
        "id": "-nn8v8lTJO2M"
      },
      "source": [
        "Các giá trị dự đoán ban đầu cho thấy xu hướng tăng, sau đó chững lại và bắt đầu giảm dần."
      ]
    },
    {
      "cell_type": "markdown",
      "metadata": {
        "id": "uy1wh8jqrn-y"
      },
      "source": [
        " Hồi quy tuyến tính - Linear Regression\n",
        "\n",
        "Mô hình này áp dụng cách tiếp cận tuyến tính để mô hình hóa mối quan hệ giữa biến phụ thuộc và (các) biến độc lập, đồng thời cũng là hình thức học máy đơn giản nhất."
      ]
    },
    {
      "cell_type": "code",
      "execution_count": null,
      "metadata": {
        "colab": {
          "base_uri": "https://localhost:8080/"
        },
        "id": "ps6pMGyLldk0",
        "outputId": "8fabfcdc-7780-4579-c783-0924d3864371"
      },
      "outputs": [
        {
          "data": {
            "text/plain": [
              "350    2011-06-01\n",
              "351    2011-06-02\n",
              "352    2011-06-03\n",
              "353    2011-06-06\n",
              "354    2011-06-07\n",
              "          ...    \n",
              "2801   2021-04-26\n",
              "2802   2021-04-27\n",
              "2803   2021-04-28\n",
              "2804   2021-04-29\n",
              "2805   2021-04-30\n",
              "Name: Date, Length: 2456, dtype: datetime64[ns]"
            ]
          },
          "execution_count": 30,
          "metadata": {},
          "output_type": "execute_result"
        }
      ],
      "source": [
        "df['Date']"
      ]
    },
    {
      "cell_type": "code",
      "execution_count": null,
      "metadata": {
        "id": "pAIFy6kVpL2R"
      },
      "outputs": [],
      "source": [
        "msft_adj['Date'] = pd.to_datetime(msft_adj.index)\n",
        "msft_adj.index = msft_adj['Date']"
      ]
    },
    {
      "cell_type": "code",
      "execution_count": null,
      "metadata": {
        "colab": {
          "base_uri": "https://localhost:8080/",
          "height": 237
        },
        "id": "lWLsBj2c8sb1",
        "outputId": "c1cd659b-3179-48c6-b087-25940e04fd06"
      },
      "outputs": [
        {
          "data": {
            "application/vnd.google.colaboratory.intrinsic+json": {
              "repr_error": "cannot insert Date, already exists",
              "type": "dataframe",
              "variable_name": "msft_adj"
            },
            "text/html": [
              "\n",
              "  <div id=\"df-56ab34ba-11b2-4b8a-b6fd-8c73e48f502b\" class=\"colab-df-container\">\n",
              "    <div>\n",
              "<style scoped>\n",
              "    .dataframe tbody tr th:only-of-type {\n",
              "        vertical-align: middle;\n",
              "    }\n",
              "\n",
              "    .dataframe tbody tr th {\n",
              "        vertical-align: top;\n",
              "    }\n",
              "\n",
              "    .dataframe thead th {\n",
              "        text-align: right;\n",
              "    }\n",
              "</style>\n",
              "<table border=\"1\" class=\"dataframe\">\n",
              "  <thead>\n",
              "    <tr style=\"text-align: right;\">\n",
              "      <th></th>\n",
              "      <th>Close</th>\n",
              "      <th>Date</th>\n",
              "    </tr>\n",
              "    <tr>\n",
              "      <th>Date</th>\n",
              "      <th></th>\n",
              "      <th></th>\n",
              "    </tr>\n",
              "  </thead>\n",
              "  <tbody>\n",
              "    <tr>\n",
              "      <th>1970-01-01 00:00:00.000000350</th>\n",
              "      <td>4104.45</td>\n",
              "      <td>1970-01-01 00:00:00.000000350</td>\n",
              "    </tr>\n",
              "    <tr>\n",
              "      <th>1970-01-01 00:00:00.000000351</th>\n",
              "      <td>4105.20</td>\n",
              "      <td>1970-01-01 00:00:00.000000351</td>\n",
              "    </tr>\n",
              "    <tr>\n",
              "      <th>1970-01-01 00:00:00.000000352</th>\n",
              "      <td>4093.25</td>\n",
              "      <td>1970-01-01 00:00:00.000000352</td>\n",
              "    </tr>\n",
              "    <tr>\n",
              "      <th>1970-01-01 00:00:00.000000353</th>\n",
              "      <td>4141.25</td>\n",
              "      <td>1970-01-01 00:00:00.000000353</td>\n",
              "    </tr>\n",
              "    <tr>\n",
              "      <th>1970-01-01 00:00:00.000000354</th>\n",
              "      <td>4165.10</td>\n",
              "      <td>1970-01-01 00:00:00.000000354</td>\n",
              "    </tr>\n",
              "  </tbody>\n",
              "</table>\n",
              "</div>\n",
              "    <div class=\"colab-df-buttons\">\n",
              "\n",
              "  <div class=\"colab-df-container\">\n",
              "    <button class=\"colab-df-convert\" onclick=\"convertToInteractive('df-56ab34ba-11b2-4b8a-b6fd-8c73e48f502b')\"\n",
              "            title=\"Convert this dataframe to an interactive table.\"\n",
              "            style=\"display:none;\">\n",
              "\n",
              "  <svg xmlns=\"http://www.w3.org/2000/svg\" height=\"24px\" viewBox=\"0 -960 960 960\">\n",
              "    <path d=\"M120-120v-720h720v720H120Zm60-500h600v-160H180v160Zm220 220h160v-160H400v160Zm0 220h160v-160H400v160ZM180-400h160v-160H180v160Zm440 0h160v-160H620v160ZM180-180h160v-160H180v160Zm440 0h160v-160H620v160Z\"/>\n",
              "  </svg>\n",
              "    </button>\n",
              "\n",
              "  <style>\n",
              "    .colab-df-container {\n",
              "      display:flex;\n",
              "      gap: 12px;\n",
              "    }\n",
              "\n",
              "    .colab-df-convert {\n",
              "      background-color: #E8F0FE;\n",
              "      border: none;\n",
              "      border-radius: 50%;\n",
              "      cursor: pointer;\n",
              "      display: none;\n",
              "      fill: #1967D2;\n",
              "      height: 32px;\n",
              "      padding: 0 0 0 0;\n",
              "      width: 32px;\n",
              "    }\n",
              "\n",
              "    .colab-df-convert:hover {\n",
              "      background-color: #E2EBFA;\n",
              "      box-shadow: 0px 1px 2px rgba(60, 64, 67, 0.3), 0px 1px 3px 1px rgba(60, 64, 67, 0.15);\n",
              "      fill: #174EA6;\n",
              "    }\n",
              "\n",
              "    .colab-df-buttons div {\n",
              "      margin-bottom: 4px;\n",
              "    }\n",
              "\n",
              "    [theme=dark] .colab-df-convert {\n",
              "      background-color: #3B4455;\n",
              "      fill: #D2E3FC;\n",
              "    }\n",
              "\n",
              "    [theme=dark] .colab-df-convert:hover {\n",
              "      background-color: #434B5C;\n",
              "      box-shadow: 0px 1px 3px 1px rgba(0, 0, 0, 0.15);\n",
              "      filter: drop-shadow(0px 1px 2px rgba(0, 0, 0, 0.3));\n",
              "      fill: #FFFFFF;\n",
              "    }\n",
              "  </style>\n",
              "\n",
              "    <script>\n",
              "      const buttonEl =\n",
              "        document.querySelector('#df-56ab34ba-11b2-4b8a-b6fd-8c73e48f502b button.colab-df-convert');\n",
              "      buttonEl.style.display =\n",
              "        google.colab.kernel.accessAllowed ? 'block' : 'none';\n",
              "\n",
              "      async function convertToInteractive(key) {\n",
              "        const element = document.querySelector('#df-56ab34ba-11b2-4b8a-b6fd-8c73e48f502b');\n",
              "        const dataTable =\n",
              "          await google.colab.kernel.invokeFunction('convertToInteractive',\n",
              "                                                    [key], {});\n",
              "        if (!dataTable) return;\n",
              "\n",
              "        const docLinkHtml = 'Like what you see? Visit the ' +\n",
              "          '<a target=\"_blank\" href=https://colab.research.google.com/notebooks/data_table.ipynb>data table notebook</a>'\n",
              "          + ' to learn more about interactive tables.';\n",
              "        element.innerHTML = '';\n",
              "        dataTable['output_type'] = 'display_data';\n",
              "        await google.colab.output.renderOutput(dataTable, element);\n",
              "        const docLink = document.createElement('div');\n",
              "        docLink.innerHTML = docLinkHtml;\n",
              "        element.appendChild(docLink);\n",
              "      }\n",
              "    </script>\n",
              "  </div>\n",
              "\n",
              "\n",
              "<div id=\"df-f4e49704-d7e2-41f2-9c59-1f25bd5e6f20\">\n",
              "  <button class=\"colab-df-quickchart\" onclick=\"quickchart('df-f4e49704-d7e2-41f2-9c59-1f25bd5e6f20')\"\n",
              "            title=\"Suggest charts\"\n",
              "            style=\"display:none;\">\n",
              "\n",
              "<svg xmlns=\"http://www.w3.org/2000/svg\" height=\"24px\"viewBox=\"0 0 24 24\"\n",
              "     width=\"24px\">\n",
              "    <g>\n",
              "        <path d=\"M19 3H5c-1.1 0-2 .9-2 2v14c0 1.1.9 2 2 2h14c1.1 0 2-.9 2-2V5c0-1.1-.9-2-2-2zM9 17H7v-7h2v7zm4 0h-2V7h2v10zm4 0h-2v-4h2v4z\"/>\n",
              "    </g>\n",
              "</svg>\n",
              "  </button>\n",
              "\n",
              "<style>\n",
              "  .colab-df-quickchart {\n",
              "      --bg-color: #E8F0FE;\n",
              "      --fill-color: #1967D2;\n",
              "      --hover-bg-color: #E2EBFA;\n",
              "      --hover-fill-color: #174EA6;\n",
              "      --disabled-fill-color: #AAA;\n",
              "      --disabled-bg-color: #DDD;\n",
              "  }\n",
              "\n",
              "  [theme=dark] .colab-df-quickchart {\n",
              "      --bg-color: #3B4455;\n",
              "      --fill-color: #D2E3FC;\n",
              "      --hover-bg-color: #434B5C;\n",
              "      --hover-fill-color: #FFFFFF;\n",
              "      --disabled-bg-color: #3B4455;\n",
              "      --disabled-fill-color: #666;\n",
              "  }\n",
              "\n",
              "  .colab-df-quickchart {\n",
              "    background-color: var(--bg-color);\n",
              "    border: none;\n",
              "    border-radius: 50%;\n",
              "    cursor: pointer;\n",
              "    display: none;\n",
              "    fill: var(--fill-color);\n",
              "    height: 32px;\n",
              "    padding: 0;\n",
              "    width: 32px;\n",
              "  }\n",
              "\n",
              "  .colab-df-quickchart:hover {\n",
              "    background-color: var(--hover-bg-color);\n",
              "    box-shadow: 0 1px 2px rgba(60, 64, 67, 0.3), 0 1px 3px 1px rgba(60, 64, 67, 0.15);\n",
              "    fill: var(--button-hover-fill-color);\n",
              "  }\n",
              "\n",
              "  .colab-df-quickchart-complete:disabled,\n",
              "  .colab-df-quickchart-complete:disabled:hover {\n",
              "    background-color: var(--disabled-bg-color);\n",
              "    fill: var(--disabled-fill-color);\n",
              "    box-shadow: none;\n",
              "  }\n",
              "\n",
              "  .colab-df-spinner {\n",
              "    border: 2px solid var(--fill-color);\n",
              "    border-color: transparent;\n",
              "    border-bottom-color: var(--fill-color);\n",
              "    animation:\n",
              "      spin 1s steps(1) infinite;\n",
              "  }\n",
              "\n",
              "  @keyframes spin {\n",
              "    0% {\n",
              "      border-color: transparent;\n",
              "      border-bottom-color: var(--fill-color);\n",
              "      border-left-color: var(--fill-color);\n",
              "    }\n",
              "    20% {\n",
              "      border-color: transparent;\n",
              "      border-left-color: var(--fill-color);\n",
              "      border-top-color: var(--fill-color);\n",
              "    }\n",
              "    30% {\n",
              "      border-color: transparent;\n",
              "      border-left-color: var(--fill-color);\n",
              "      border-top-color: var(--fill-color);\n",
              "      border-right-color: var(--fill-color);\n",
              "    }\n",
              "    40% {\n",
              "      border-color: transparent;\n",
              "      border-right-color: var(--fill-color);\n",
              "      border-top-color: var(--fill-color);\n",
              "    }\n",
              "    60% {\n",
              "      border-color: transparent;\n",
              "      border-right-color: var(--fill-color);\n",
              "    }\n",
              "    80% {\n",
              "      border-color: transparent;\n",
              "      border-right-color: var(--fill-color);\n",
              "      border-bottom-color: var(--fill-color);\n",
              "    }\n",
              "    90% {\n",
              "      border-color: transparent;\n",
              "      border-bottom-color: var(--fill-color);\n",
              "    }\n",
              "  }\n",
              "</style>\n",
              "\n",
              "  <script>\n",
              "    async function quickchart(key) {\n",
              "      const quickchartButtonEl =\n",
              "        document.querySelector('#' + key + ' button');\n",
              "      quickchartButtonEl.disabled = true;  // To prevent multiple clicks.\n",
              "      quickchartButtonEl.classList.add('colab-df-spinner');\n",
              "      try {\n",
              "        const charts = await google.colab.kernel.invokeFunction(\n",
              "            'suggestCharts', [key], {});\n",
              "      } catch (error) {\n",
              "        console.error('Error during call to suggestCharts:', error);\n",
              "      }\n",
              "      quickchartButtonEl.classList.remove('colab-df-spinner');\n",
              "      quickchartButtonEl.classList.add('colab-df-quickchart-complete');\n",
              "    }\n",
              "    (() => {\n",
              "      let quickchartButtonEl =\n",
              "        document.querySelector('#df-f4e49704-d7e2-41f2-9c59-1f25bd5e6f20 button');\n",
              "      quickchartButtonEl.style.display =\n",
              "        google.colab.kernel.accessAllowed ? 'block' : 'none';\n",
              "    })();\n",
              "  </script>\n",
              "</div>\n",
              "\n",
              "    </div>\n",
              "  </div>\n"
            ],
            "text/plain": [
              "                                 Close                          Date\n",
              "Date                                                                \n",
              "1970-01-01 00:00:00.000000350  4104.45 1970-01-01 00:00:00.000000350\n",
              "1970-01-01 00:00:00.000000351  4105.20 1970-01-01 00:00:00.000000351\n",
              "1970-01-01 00:00:00.000000352  4093.25 1970-01-01 00:00:00.000000352\n",
              "1970-01-01 00:00:00.000000353  4141.25 1970-01-01 00:00:00.000000353\n",
              "1970-01-01 00:00:00.000000354  4165.10 1970-01-01 00:00:00.000000354"
            ]
          },
          "execution_count": 43,
          "metadata": {},
          "output_type": "execute_result"
        }
      ],
      "source": [
        "msft_adj.head()"
      ]
    },
    {
      "cell_type": "code",
      "execution_count": null,
      "metadata": {
        "id": "4ZEQFJ2tn_M_"
      },
      "outputs": [],
      "source": [
        "# Thiết lập cột 'Date' làm chỉ mục của DataFrame\n",
        "# msft_adj.set_index('Date', inplace=True)"
      ]
    },
    {
      "cell_type": "code",
      "execution_count": null,
      "metadata": {
        "id": "clNoBi1jtXVt"
      },
      "outputs": [],
      "source": [
        "# Tạo tập dữ liệu riêng cho giá đóng cửa điều chỉnh\n",
        "msft_adj = pd.DataFrame(index=range(0,len(df)),columns=['Date', 'Close'])\n",
        "\n",
        "for i in range(350,len(df)):\n",
        "     msft_adj['Date'][i] = df.index[i]\n",
        "     msft_adj['Close'][i] = df['Close'][i]"
      ]
    },
    {
      "cell_type": "markdown",
      "metadata": {
        "id": "vxyeafjjszUj"
      },
      "source": [
        "### Feature engineering (tạm dịch: Trích chọn đặc trưng)\n",
        "\n",
        "Giả thuyết cho rằng, những ngày đầu tiên và cuối cùng trong tuần có khả năng ảnh hưởng nhiều đến giá đóng cửa điều chỉnh. Vì vậy chúng ta sẽ thêm một tính năng để phân loại các ngày dựa vào ngày trong tuần của chúng.\n",
        "\n",
        "Nếu số ngày là 0 (thứ hai) hoặc 4(thứ sáu) thì cột ghi chú sẽ hiện thị 1, và ngược lại, nếu ngày rơi vào thứ ba, tư, năm, cột hiện thị sẽ ghi là 0."
      ]
    },
    {
      "cell_type": "code",
      "execution_count": null,
      "metadata": {
        "id": "by--P_K0xs2S"
      },
      "outputs": [],
      "source": [
        "def add_datepart(df, fldname, drop=True, time=False):\n",
        "    fld = df[fldname]\n",
        "    fld_dtype = fld.dtype\n",
        "\n",
        "    if isinstance(fld_dtype, pd.core.dtypes.dtypes.DatetimeTZDtype):\n",
        "        fld_dtype = np.datetime64\n",
        "\n",
        "    if not np.issubdtype(fld_dtype, np.datetime64):\n",
        "        df[fldname] = fld = pd.to_datetime(fld, infer_datetime_format=True)\n",
        "\n",
        "    targ_pre = re.sub('[Dd]ate$', '', fldname)\n",
        "    attr = ['Year', 'Month', 'Week', 'Day', 'Dayofweek', 'Dayofyear',\n",
        "            'Is_month_end', 'Is_month_start', 'Is_quarter_end', 'Is_quarter_start', 'Is_year_end', 'Is_year_start']\n",
        "\n",
        "    if time:\n",
        "        attr += ['Hour', 'Minute', 'Second']\n",
        "\n",
        "    for n in attr:\n",
        "        if n == 'Week':\n",
        "            df[targ_pre + n] = fld.dt.isocalendar().week\n",
        "        else:\n",
        "            df[targ_pre + n] = getattr(fld.dt, n.lower())\n",
        "\n",
        "    df[targ_pre + 'Elapsed'] = fld.view(np.int64) // 10**9\n",
        "\n",
        "    if drop:\n",
        "        df.drop(fldname, axis=1, inplace=True)"
      ]
    },
    {
      "cell_type": "code",
      "execution_count": null,
      "metadata": {
        "id": "yVwxDpDcKJ74"
      },
      "outputs": [],
      "source": [
        "# Gọi function để thêm các thành phần ngày/thời gian\n",
        "add_datepart(msft_adj, 'Date')\n",
        "msft_adj.drop('Elapsed', axis=1, inplace=True)"
      ]
    },
    {
      "cell_type": "code",
      "execution_count": null,
      "metadata": {
        "colab": {
          "base_uri": "https://localhost:8080/"
        },
        "id": "DX0N30hCrfqs",
        "outputId": "03caa894-b9f9-485e-dd53-b19b49b5946c"
      },
      "outputs": [
        {
          "name": "stdout",
          "output_type": "stream",
          "text": [
            "         Close    Year  Month  Week  Day  Dayofweek  Dayofyear  Is_month_end  \\\n",
            "0          NaN     NaN    NaN  <NA>  NaN        NaN        NaN         False   \n",
            "1          NaN     NaN    NaN  <NA>  NaN        NaN        NaN         False   \n",
            "2          NaN     NaN    NaN  <NA>  NaN        NaN        NaN         False   \n",
            "3          NaN     NaN    NaN  <NA>  NaN        NaN        NaN         False   \n",
            "4          NaN     NaN    NaN  <NA>  NaN        NaN        NaN         False   \n",
            "...        ...     ...    ...   ...  ...        ...        ...           ...   \n",
            "2451   16870.6  1970.0    1.0     1  1.0        3.0        1.0         False   \n",
            "2452   16779.0  1970.0    1.0     1  1.0        3.0        1.0         False   \n",
            "2453   16633.8  1970.0    1.0     1  1.0        3.0        1.0         False   \n",
            "2454  16502.55  1970.0    1.0     1  1.0        3.0        1.0         False   \n",
            "2455  16309.25  1970.0    1.0     1  1.0        3.0        1.0         False   \n",
            "\n",
            "      Is_month_start  Is_quarter_end  Is_quarter_start  Is_year_end  \\\n",
            "0              False           False             False        False   \n",
            "1              False           False             False        False   \n",
            "2              False           False             False        False   \n",
            "3              False           False             False        False   \n",
            "4              False           False             False        False   \n",
            "...              ...             ...               ...          ...   \n",
            "2451            True           False              True        False   \n",
            "2452            True           False              True        False   \n",
            "2453            True           False              True        False   \n",
            "2454            True           False              True        False   \n",
            "2455            True           False              True        False   \n",
            "\n",
            "      Is_year_start  \n",
            "0             False  \n",
            "1             False  \n",
            "2             False  \n",
            "3             False  \n",
            "4             False  \n",
            "...             ...  \n",
            "2451           True  \n",
            "2452           True  \n",
            "2453           True  \n",
            "2454           True  \n",
            "2455           True  \n",
            "\n",
            "[2456 rows x 13 columns]\n"
          ]
        }
      ],
      "source": [
        "print(msft_adj)"
      ]
    },
    {
      "cell_type": "code",
      "execution_count": null,
      "metadata": {
        "colab": {
          "base_uri": "https://localhost:8080/"
        },
        "id": "St5cesRStxgA",
        "outputId": "5dcd39b9-d415-47d3-d476-ab37b9a4d905"
      },
      "outputs": [
        {
          "data": {
            "text/plain": [
              "Index(['Close', 'Year', 'Month', 'Week', 'Day', 'Dayofweek', 'Dayofyear',\n",
              "       'Is_month_end', 'Is_month_start', 'Is_quarter_end', 'Is_quarter_start',\n",
              "       'Is_year_end', 'Is_year_start'],\n",
              "      dtype='object')"
            ]
          },
          "execution_count": 48,
          "metadata": {},
          "output_type": "execute_result"
        }
      ],
      "source": [
        "# Print cột\n",
        "msft_adj.columns"
      ]
    },
    {
      "cell_type": "code",
      "execution_count": null,
      "metadata": {
        "id": "gK8TOglkMXuQ"
      },
      "outputs": [],
      "source": [
        "# Tạo tính năng\n",
        "msft_adj['mon_fri'] = 0\n",
        "for i in range(0,len(msft_adj)):\n",
        "    if (msft_adj['Dayofweek'][i] == 0 or msft_adj['Dayofweek'][i] == 4):\n",
        "        msft_adj['mon_fri'][i] = 1\n",
        "    else:\n",
        "        msft_adj['mon_fri'][i] = 0"
      ]
    },
    {
      "cell_type": "markdown",
      "metadata": {
        "id": "ABtbtIPYzOwK"
      },
      "source": [
        "### Split data thành train và test set"
      ]
    },
    {
      "cell_type": "code",
      "execution_count": null,
      "metadata": {
        "id": "IwGy9VNtMyjn"
      },
      "outputs": [],
      "source": [
        "split = int(0.8*len(msft_adj))"
      ]
    },
    {
      "cell_type": "code",
      "execution_count": null,
      "metadata": {
        "id": "pfHfBW1dM26n"
      },
      "outputs": [],
      "source": [
        "train, test = msft_adj[:split], msft_adj[split:]"
      ]
    },
    {
      "cell_type": "code",
      "execution_count": null,
      "metadata": {
        "colab": {
          "base_uri": "https://localhost:8080/"
        },
        "id": "VpXD-dsTYhis",
        "outputId": "53407f20-47fe-44a4-b5b3-9673367b2bbd"
      },
      "outputs": [
        {
          "data": {
            "text/plain": [
              "((2456, 14), (1964, 14), (492, 14))"
            ]
          },
          "execution_count": 52,
          "metadata": {},
          "output_type": "execute_result"
        }
      ],
      "source": [
        "msft_adj.shape, train.shape, test.shape"
      ]
    },
    {
      "cell_type": "code",
      "execution_count": null,
      "metadata": {
        "id": "MqCUeRH1NyRg"
      },
      "outputs": [],
      "source": [
        "X_train = train.drop('Close', axis=1)\n",
        "y_train = train['Close']\n",
        "X_test = test.drop('Close', axis=1)\n",
        "y_test = test['Close']"
      ]
    },
    {
      "cell_type": "code",
      "execution_count": null,
      "metadata": {
        "colab": {
          "base_uri": "https://localhost:8080/"
        },
        "id": "LyTTo_1IOATP",
        "outputId": "b1e84400-b27e-463c-8aba-dcd6ed3d67f3"
      },
      "outputs": [
        {
          "data": {
            "text/plain": [
              "((1964, 13), (1964,), (492, 13), (492,))"
            ]
          },
          "execution_count": 54,
          "metadata": {},
          "output_type": "execute_result"
        }
      ],
      "source": [
        "X_train.shape, y_train.shape, X_test.shape, y_test.shape"
      ]
    },
    {
      "cell_type": "code",
      "execution_count": null,
      "metadata": {
        "id": "XDj5-JmLuj4w"
      },
      "outputs": [],
      "source": [
        "X_train = X_train.dropna()\n",
        "y_train = y_train[X_train.index]\n",
        "X_test = X_test.dropna()\n",
        "y_test = y_test[X_test.index]"
      ]
    },
    {
      "cell_type": "markdown",
      "metadata": {
        "id": "b01VcrvLVqIB"
      },
      "source": [
        "### Tạo và train mô hình Hồi quy tuyến tính\n"
      ]
    },
    {
      "cell_type": "code",
      "execution_count": null,
      "metadata": {
        "colab": {
          "base_uri": "https://localhost:8080/",
          "height": 75
        },
        "id": "7Z-WRBJPWbIH",
        "outputId": "2e4b462c-64dd-4009-a786-d7170f0b5bd6"
      },
      "outputs": [
        {
          "data": {
            "text/html": [
              "<style>#sk-container-id-1 {color: black;background-color: white;}#sk-container-id-1 pre{padding: 0;}#sk-container-id-1 div.sk-toggleable {background-color: white;}#sk-container-id-1 label.sk-toggleable__label {cursor: pointer;display: block;width: 100%;margin-bottom: 0;padding: 0.3em;box-sizing: border-box;text-align: center;}#sk-container-id-1 label.sk-toggleable__label-arrow:before {content: \"▸\";float: left;margin-right: 0.25em;color: #696969;}#sk-container-id-1 label.sk-toggleable__label-arrow:hover:before {color: black;}#sk-container-id-1 div.sk-estimator:hover label.sk-toggleable__label-arrow:before {color: black;}#sk-container-id-1 div.sk-toggleable__content {max-height: 0;max-width: 0;overflow: hidden;text-align: left;background-color: #f0f8ff;}#sk-container-id-1 div.sk-toggleable__content pre {margin: 0.2em;color: black;border-radius: 0.25em;background-color: #f0f8ff;}#sk-container-id-1 input.sk-toggleable__control:checked~div.sk-toggleable__content {max-height: 200px;max-width: 100%;overflow: auto;}#sk-container-id-1 input.sk-toggleable__control:checked~label.sk-toggleable__label-arrow:before {content: \"▾\";}#sk-container-id-1 div.sk-estimator input.sk-toggleable__control:checked~label.sk-toggleable__label {background-color: #d4ebff;}#sk-container-id-1 div.sk-label input.sk-toggleable__control:checked~label.sk-toggleable__label {background-color: #d4ebff;}#sk-container-id-1 input.sk-hidden--visually {border: 0;clip: rect(1px 1px 1px 1px);clip: rect(1px, 1px, 1px, 1px);height: 1px;margin: -1px;overflow: hidden;padding: 0;position: absolute;width: 1px;}#sk-container-id-1 div.sk-estimator {font-family: monospace;background-color: #f0f8ff;border: 1px dotted black;border-radius: 0.25em;box-sizing: border-box;margin-bottom: 0.5em;}#sk-container-id-1 div.sk-estimator:hover {background-color: #d4ebff;}#sk-container-id-1 div.sk-parallel-item::after {content: \"\";width: 100%;border-bottom: 1px solid gray;flex-grow: 1;}#sk-container-id-1 div.sk-label:hover label.sk-toggleable__label {background-color: #d4ebff;}#sk-container-id-1 div.sk-serial::before {content: \"\";position: absolute;border-left: 1px solid gray;box-sizing: border-box;top: 0;bottom: 0;left: 50%;z-index: 0;}#sk-container-id-1 div.sk-serial {display: flex;flex-direction: column;align-items: center;background-color: white;padding-right: 0.2em;padding-left: 0.2em;position: relative;}#sk-container-id-1 div.sk-item {position: relative;z-index: 1;}#sk-container-id-1 div.sk-parallel {display: flex;align-items: stretch;justify-content: center;background-color: white;position: relative;}#sk-container-id-1 div.sk-item::before, #sk-container-id-1 div.sk-parallel-item::before {content: \"\";position: absolute;border-left: 1px solid gray;box-sizing: border-box;top: 0;bottom: 0;left: 50%;z-index: -1;}#sk-container-id-1 div.sk-parallel-item {display: flex;flex-direction: column;z-index: 1;position: relative;background-color: white;}#sk-container-id-1 div.sk-parallel-item:first-child::after {align-self: flex-end;width: 50%;}#sk-container-id-1 div.sk-parallel-item:last-child::after {align-self: flex-start;width: 50%;}#sk-container-id-1 div.sk-parallel-item:only-child::after {width: 0;}#sk-container-id-1 div.sk-dashed-wrapped {border: 1px dashed gray;margin: 0 0.4em 0.5em 0.4em;box-sizing: border-box;padding-bottom: 0.4em;background-color: white;}#sk-container-id-1 div.sk-label label {font-family: monospace;font-weight: bold;display: inline-block;line-height: 1.2em;}#sk-container-id-1 div.sk-label-container {text-align: center;}#sk-container-id-1 div.sk-container {/* jupyter's `normalize.less` sets `[hidden] { display: none; }` but bootstrap.min.css set `[hidden] { display: none !important; }` so we also need the `!important` here to be able to override the default hidden behavior on the sphinx rendered scikit-learn.org. See: https://github.com/scikit-learn/scikit-learn/issues/21755 */display: inline-block !important;position: relative;}#sk-container-id-1 div.sk-text-repr-fallback {display: none;}</style><div id=\"sk-container-id-1\" class=\"sk-top-container\"><div class=\"sk-text-repr-fallback\"><pre>LinearRegression()</pre><b>In a Jupyter environment, please rerun this cell to show the HTML representation or trust the notebook. <br />On GitHub, the HTML representation is unable to render, please try loading this page with nbviewer.org.</b></div><div class=\"sk-container\" hidden><div class=\"sk-item\"><div class=\"sk-estimator sk-toggleable\"><input class=\"sk-toggleable__control sk-hidden--visually\" id=\"sk-estimator-id-1\" type=\"checkbox\" checked><label for=\"sk-estimator-id-1\" class=\"sk-toggleable__label sk-toggleable__label-arrow\">LinearRegression</label><div class=\"sk-toggleable__content\"><pre>LinearRegression()</pre></div></div></div></div></div>"
            ],
            "text/plain": [
              "LinearRegression()"
            ]
          },
          "execution_count": 56,
          "metadata": {},
          "output_type": "execute_result"
        }
      ],
      "source": [
        "# Tạo model\n",
        "model = LinearRegression()\n",
        "\n",
        "# Train model\n",
        "model.fit(X_train,y_train)"
      ]
    },
    {
      "cell_type": "markdown",
      "metadata": {
        "id": "MSN_4xthznNo"
      },
      "source": [
        "### Test model"
      ]
    },
    {
      "cell_type": "code",
      "execution_count": null,
      "metadata": {
        "colab": {
          "base_uri": "https://localhost:8080/"
        },
        "id": "AgVUqrwkWKfX",
        "outputId": "5280ab52-79e4-4d78-83e5-30f87c01f920"
      },
      "outputs": [
        {
          "name": "stdout",
          "output_type": "stream",
          "text": [
            "[6717.01409542 6717.01409542 6717.01409542 6717.01409542 6717.01409542\n",
            " 6717.01409542 6717.01409542 6717.01409542 6717.01409542 6717.01409542\n",
            " 6717.01409542 6717.01409542 6717.01409542 6717.01409542 6717.01409542\n",
            " 6717.01409542 6717.01409542 6717.01409542 6717.01409542 6717.01409542\n",
            " 6717.01409542 6717.01409542 6717.01409542 6717.01409542 6717.01409542\n",
            " 6717.01409542 6717.01409542 6717.01409542 6717.01409542 6717.01409542\n",
            " 6717.01409542 6717.01409542 6717.01409542 6717.01409542 6717.01409542\n",
            " 6717.01409542 6717.01409542 6717.01409542 6717.01409542 6717.01409542\n",
            " 6717.01409542 6717.01409542 6717.01409542 6717.01409542 6717.01409542\n",
            " 6717.01409542 6717.01409542 6717.01409542 6717.01409542 6717.01409542\n",
            " 6717.01409542 6717.01409542 6717.01409542 6717.01409542 6717.01409542\n",
            " 6717.01409542 6717.01409542 6717.01409542 6717.01409542 6717.01409542\n",
            " 6717.01409542 6717.01409542 6717.01409542 6717.01409542 6717.01409542\n",
            " 6717.01409542 6717.01409542 6717.01409542 6717.01409542 6717.01409542\n",
            " 6717.01409542 6717.01409542 6717.01409542 6717.01409542 6717.01409542\n",
            " 6717.01409542 6717.01409542 6717.01409542 6717.01409542 6717.01409542\n",
            " 6717.01409542 6717.01409542 6717.01409542 6717.01409542 6717.01409542\n",
            " 6717.01409542 6717.01409542 6717.01409542 6717.01409542 6717.01409542\n",
            " 6717.01409542 6717.01409542 6717.01409542 6717.01409542 6717.01409542\n",
            " 6717.01409542 6717.01409542 6717.01409542 6717.01409542 6717.01409542\n",
            " 6717.01409542 6717.01409542 6717.01409542 6717.01409542 6717.01409542\n",
            " 6717.01409542 6717.01409542 6717.01409542 6717.01409542 6717.01409542\n",
            " 6717.01409542 6717.01409542 6717.01409542 6717.01409542 6717.01409542\n",
            " 6717.01409542 6717.01409542 6717.01409542 6717.01409542 6717.01409542\n",
            " 6717.01409542 6717.01409542 6717.01409542 6717.01409542 6717.01409542\n",
            " 6717.01409542 6717.01409542 6717.01409542 6717.01409542 6717.01409542\n",
            " 6717.01409542 6717.01409542 6717.01409542 6717.01409542 6717.01409542\n",
            " 6717.01409542 6717.01409542 6717.01409542 6717.01409542 6717.01409542\n",
            " 6717.01409542 6717.01409542 6717.01409542 6717.01409542 6717.01409542\n",
            " 6717.01409542 6717.01409542 6717.01409542 6717.01409542 6717.01409542\n",
            " 6717.01409542 6717.01409542 6717.01409542 6717.01409542 6717.01409542\n",
            " 6717.01409542 6717.01409542 6717.01409542 6717.01409542 6717.01409542\n",
            " 6717.01409542 6717.01409542 6717.01409542 6717.01409542 6717.01409542\n",
            " 6717.01409542 6717.01409542 6717.01409542 6717.01409542 6717.01409542\n",
            " 6717.01409542 6717.01409542 6717.01409542 6717.01409542 6717.01409542\n",
            " 6717.01409542 6717.01409542 6717.01409542 6717.01409542 6717.01409542\n",
            " 6717.01409542 6717.01409542 6717.01409542 6717.01409542 6717.01409542\n",
            " 6717.01409542 6717.01409542 6717.01409542 6717.01409542 6717.01409542\n",
            " 6717.01409542 6717.01409542 6717.01409542 6717.01409542 6717.01409542\n",
            " 6717.01409542 6717.01409542 6717.01409542 6717.01409542 6717.01409542\n",
            " 6717.01409542 6717.01409542 6717.01409542 6717.01409542 6717.01409542\n",
            " 6717.01409542 6717.01409542 6717.01409542 6717.01409542 6717.01409542\n",
            " 6717.01409542 6717.01409542 6717.01409542 6717.01409542 6717.01409542\n",
            " 6717.01409542 6717.01409542 6717.01409542 6717.01409542 6717.01409542\n",
            " 6717.01409542 6717.01409542 6717.01409542 6717.01409542 6717.01409542\n",
            " 6717.01409542 6717.01409542 6717.01409542 6717.01409542 6717.01409542\n",
            " 6717.01409542 6717.01409542 6717.01409542 6717.01409542 6717.01409542\n",
            " 6717.01409542 6717.01409542 6717.01409542 6717.01409542 6717.01409542\n",
            " 6717.01409542 6717.01409542 6717.01409542 6717.01409542 6717.01409542\n",
            " 6717.01409542 6717.01409542 6717.01409542 6717.01409542 6717.01409542\n",
            " 6717.01409542 6717.01409542 6717.01409542 6717.01409542 6717.01409542\n",
            " 6717.01409542 6717.01409542 6717.01409542 6717.01409542 6717.01409542\n",
            " 6717.01409542 6717.01409542 6717.01409542 6717.01409542 6717.01409542\n",
            " 6717.01409542 6717.01409542 6717.01409542 6717.01409542 6717.01409542\n",
            " 6717.01409542 6717.01409542 6717.01409542 6717.01409542 6717.01409542\n",
            " 6717.01409542 6717.01409542 6717.01409542 6717.01409542 6717.01409542\n",
            " 6717.01409542 6717.01409542 6717.01409542 6717.01409542 6717.01409542\n",
            " 6717.01409542 6717.01409542 6717.01409542 6717.01409542 6717.01409542\n",
            " 6717.01409542 6717.01409542 6717.01409542 6717.01409542 6717.01409542\n",
            " 6717.01409542 6717.01409542 6717.01409542 6717.01409542 6717.01409542\n",
            " 6717.01409542 6717.01409542 6717.01409542 6717.01409542 6717.01409542\n",
            " 6717.01409542 6717.01409542 6717.01409542 6717.01409542 6717.01409542\n",
            " 6717.01409542 6717.01409542 6717.01409542 6717.01409542 6717.01409542\n",
            " 6717.01409542 6717.01409542 6717.01409542 6717.01409542 6717.01409542\n",
            " 6717.01409542 6717.01409542 6717.01409542 6717.01409542 6717.01409542\n",
            " 6717.01409542 6717.01409542 6717.01409542 6717.01409542 6717.01409542\n",
            " 6717.01409542 6717.01409542 6717.01409542 6717.01409542 6717.01409542\n",
            " 6717.01409542 6717.01409542 6717.01409542 6717.01409542 6717.01409542\n",
            " 6717.01409542 6717.01409542 6717.01409542 6717.01409542 6717.01409542\n",
            " 6717.01409542 6717.01409542 6717.01409542 6717.01409542 6717.01409542\n",
            " 6717.01409542 6717.01409542 6717.01409542 6717.01409542 6717.01409542\n",
            " 6717.01409542 6717.01409542 6717.01409542 6717.01409542 6717.01409542\n",
            " 6717.01409542 6717.01409542 6717.01409542 6717.01409542 6717.01409542\n",
            " 6717.01409542 6717.01409542 6717.01409542 6717.01409542 6717.01409542\n",
            " 6717.01409542 6717.01409542 6717.01409542 6717.01409542 6717.01409542\n",
            " 6717.01409542 6717.01409542 6717.01409542 6717.01409542 6717.01409542\n",
            " 6717.01409542 6717.01409542 6717.01409542 6717.01409542 6717.01409542\n",
            " 6717.01409542 6717.01409542 6717.01409542 6717.01409542 6717.01409542\n",
            " 6717.01409542 6717.01409542 6717.01409542 6717.01409542 6717.01409542\n",
            " 6717.01409542 6717.01409542 6717.01409542 6717.01409542 6717.01409542\n",
            " 6717.01409542 6717.01409542 6717.01409542 6717.01409542 6717.01409542\n",
            " 6717.01409542 6717.01409542 6717.01409542 6717.01409542 6717.01409542\n",
            " 6717.01409542 6717.01409542 6717.01409542 6717.01409542 6717.01409542\n",
            " 6717.01409542 6717.01409542 6717.01409542 6717.01409542 6717.01409542\n",
            " 6717.01409542 6717.01409542 6717.01409542 6717.01409542 6717.01409542\n",
            " 6717.01409542 6717.01409542 6717.01409542 6717.01409542 6717.01409542\n",
            " 6717.01409542 6717.01409542 6717.01409542 6717.01409542 6717.01409542\n",
            " 6717.01409542 6717.01409542 6717.01409542 6717.01409542 6717.01409542\n",
            " 6717.01409542 6717.01409542 6717.01409542 6717.01409542 6717.01409542\n",
            " 6717.01409542 6717.01409542 6717.01409542 6717.01409542 6717.01409542\n",
            " 6717.01409542 6717.01409542 6717.01409542 6717.01409542 6717.01409542\n",
            " 6717.01409542 6717.01409542 6717.01409542 6717.01409542 6717.01409542\n",
            " 6717.01409542 6717.01409542 6717.01409542 6717.01409542 6717.01409542\n",
            " 6717.01409542 6717.01409542 6717.01409542 6717.01409542 6717.01409542\n",
            " 6717.01409542 6717.01409542 6717.01409542 6717.01409542 6717.01409542\n",
            " 6717.01409542 6717.01409542 6717.01409542 6717.01409542 6717.01409542\n",
            " 6717.01409542 6717.01409542 6717.01409542 6717.01409542 6717.01409542\n",
            " 6717.01409542 6717.01409542 6717.01409542 6717.01409542 6717.01409542\n",
            " 6717.01409542 6717.01409542]\n"
          ]
        }
      ],
      "source": [
        "# Tạo dự báo\n",
        "preds = model.predict(X_test)\n",
        "print(preds)"
      ]
    },
    {
      "cell_type": "markdown",
      "metadata": {
        "id": "qj9v4BrOWTO-"
      },
      "source": [
        "### Tính chỉ số RMSE"
      ]
    },
    {
      "cell_type": "code",
      "execution_count": null,
      "metadata": {
        "colab": {
          "base_uri": "https://localhost:8080/"
        },
        "id": "GqpIiBxAb0lP",
        "outputId": "28761e51-ffc8-4413-d0a4-d047b4c3adf1"
      },
      "outputs": [
        {
          "data": {
            "text/plain": [
              "8927.044365250997"
            ]
          },
          "execution_count": 58,
          "metadata": {},
          "output_type": "execute_result"
        }
      ],
      "source": [
        "rmse = np.sqrt(np.mean(np.power((np.array(y_test)-np.array(preds)),2)))\n",
        "rmse"
      ]
    },
    {
      "cell_type": "markdown",
      "metadata": {
        "id": "5vSCw3mAXC0b"
      },
      "source": [
        "### Trực quan hóa các dữ liệu dự đoán và thực tế"
      ]
    },
    {
      "cell_type": "code",
      "execution_count": null,
      "metadata": {
        "colab": {
          "base_uri": "https://localhost:8080/",
          "height": 393
        },
        "id": "zzD77VDudB9o",
        "outputId": "c1598ff2-3f58-4525-8949-07f96b9c7aff"
      },
      "outputs": [
        {
          "data": {
            "image/png": "[encoded data removed]",
            "text/plain": [
              "<Figure size 2000x1000 with 1 Axes>"
            ]
          },
          "metadata": {},
          "output_type": "display_data"
        }
      ],
      "source": [
        "# Plot thông số dự đoán và thực tế\n",
        "plt.figure(figsize=(20,10))\n",
        "sns.set_style(\"whitegrid\")\n",
        "test['Predictions'] = 0\n",
        "test['Predictions'] = preds\n",
        "\n",
        "test.index = df[split:].index\n",
        "train.index = df[:split].index\n",
        "\n",
        "plt.plot(train['Close'], label='Training')\n",
        "plt.plot(test['Close'], label='Actual')\n",
        "plt.plot(test['Predictions'], label='Predicted')\n",
        "plt.title(\"Microsoft giá đóng cửa điều chỉnh - Hồi quy tuyến tính\", color = 'black', fontsize = 20)\n",
        "plt.xlabel('Năm', color = 'black', fontsize = 15)\n",
        "plt.ylabel('Giá chứng khoán', color = 'black', fontsize = 15)\n",
        "plt.legend();"
      ]
    },
    {
      "cell_type": "markdown",
      "metadata": {
        "id": "FBx22diVOwVS"
      },
      "source": [
        "Giá trị RMSE thấp hơn so với Đường trung bình động"
      ]
    },
    {
      "cell_type": "markdown",
      "metadata": {
        "id": "LPTehCKX4OqX"
      },
      "source": [
        " k-Nearest Neighbours\n",
        "\n",
        "Dựa trên các biến độc lập, k-Nearest Neighbors tìm thấy sự giống nhau giữa các điểm dữ liệu mới, cũ và giả định rằng các điểm dữ liệu tương tự tồn tại ở gần nhau. Nó chọn k cho “hàng xóm” gần nhất và sau đó dựa trên những “hàng xóm” này để dự đoán một giá trị cho quan sát mới. k-Nearest Neighbours được biết đến như là một mô hình machine learning đơn giản."
      ]
    },
    {
      "cell_type": "markdown",
      "metadata": {
        "id": "J8aqygG_LEPl"
      },
      "source": [
        "### Feature scaling (tạm dịch: Scaling trích chọn)"
      ]
    },
    {
      "cell_type": "code",
      "execution_count": null,
      "metadata": {
        "id": "9tNIKd44lC8y"
      },
      "outputs": [],
      "source": [
        "# Normalisation - thay đổi tỷ lệ dữ liệu để tất cả các giá trị nằm trong phạm vi 0 và 1\n",
        "scaler = MinMaxScaler(feature_range=(0, 1))\n",
        "\n",
        "X_train_scaled = scaler.fit_transform(X_train)\n",
        "X_train = pd.DataFrame(X_train_scaled)\n",
        "X_test_scaled = scaler.transform(X_test)\n",
        "X_test = pd.DataFrame(X_test_scaled)"
      ]
    },
    {
      "cell_type": "markdown",
      "metadata": {
        "id": "WDspX3t3LbYP"
      },
      "source": [
        "### GridSearch tìm tham số tối ưu"
      ]
    },
    {
      "cell_type": "code",
      "execution_count": null,
      "metadata": {
        "id": "QlhRdOxGlWfZ"
      },
      "outputs": [],
      "source": [
        "# Tạo thư viện cho tham số\n",
        "params = {'n_neighbors':[2,3,4,5,6,7,8,9]}\n",
        "# Tạo model\n",
        "knn = KNeighborsRegressor()\n",
        "# Dùng GridSearch để tìm tham số tối ưu\n",
        "model = GridSearchCV(knn, params, cv=5)"
      ]
    },
    {
      "cell_type": "markdown",
      "metadata": {
        "id": "QoMaX-JSLtiu"
      },
      "source": [
        "### Train và test model"
      ]
    },
    {
      "cell_type": "code",
      "execution_count": null,
      "metadata": {
        "id": "a_Gxtwdhlavw"
      },
      "outputs": [],
      "source": [
        "# Fit model và tạo dự đoán\n",
        "model.fit(X_train,y_train)\n",
        "preds = model.predict(X_test)"
      ]
    },
    {
      "cell_type": "markdown",
      "metadata": {
        "id": "Kssy4M40ME9Z"
      },
      "source": [
        "### Tính chỉ số RMSE"
      ]
    },
    {
      "cell_type": "code",
      "execution_count": null,
      "metadata": {
        "colab": {
          "base_uri": "https://localhost:8080/"
        },
        "id": "Ryhla-MKiRfC",
        "outputId": "a3f93bb2-abeb-4a41-e487-4d962e28aec9"
      },
      "outputs": [
        {
          "data": {
            "text/plain": [
              "10880.199230135033"
            ]
          },
          "execution_count": 63,
          "metadata": {},
          "output_type": "execute_result"
        }
      ],
      "source": [
        "rmse = np.sqrt(np.mean(np.power((np.array(y_test)-np.array(preds)),2)))\n",
        "rmse"
      ]
    },
    {
      "cell_type": "markdown",
      "metadata": {
        "id": "daUjslQB42nR"
      },
      "source": [
        "### Trực quan hóa các dữ liệu dự đoán và thực tế"
      ]
    },
    {
      "cell_type": "code",
      "execution_count": null,
      "metadata": {
        "colab": {
          "base_uri": "https://localhost:8080/",
          "height": 393
        },
        "id": "kaSyAi79i2Qi",
        "outputId": "3a2110c3-32b1-4e1d-bd89-1f45dd89f577"
      },
      "outputs": [
        {
          "data": {
            "image/png": "[encoded data removed]",
            "text/plain": [
              "<Figure size 2000x1000 with 1 Axes>"
            ]
          },
          "metadata": {},
          "output_type": "display_data"
        }
      ],
      "source": [
        "# Plot thông số dự đoán và thực tế\n",
        "plt.figure(figsize=(20,10))\n",
        "sns.set_style(\"whitegrid\")\n",
        "test['Predictions'] = 0\n",
        "test['Predictions'] = preds\n",
        "\n",
        "plt.plot(train['Close'], label='Training')\n",
        "plt.plot(test['Close'], label='Actual')\n",
        "plt.plot(test['Predictions'], label='Predicted')\n",
        "plt.title(\"Microsoft giá đóng cửa điều chỉnh - k-Nearest Neighbours\", color = 'black', fontsize = 20)\n",
        "plt.xlabel('Năm', color = 'black', fontsize = 15)\n",
        "plt.ylabel('Giá chứng khoán', color = 'black', fontsize = 15)\n",
        "plt.legend();"
      ]
    },
    {
      "cell_type": "markdown",
      "metadata": {
        "id": "lU1urAuK6HsA"
      },
      "source": [
        "Từ ba biểu đồ trên, có vẻ như các thuật toán hồi quy không thực sự hoạt động tốt trên tập dữ liệu chuỗi thời gian này."
      ]
    },
    {
      "cell_type": "markdown",
      "metadata": {
        "id": "M0jMveaxmcXg"
      },
      "source": [
        "Bằng cách sử dụng dữ liệu trong quá khứ để phân tích và hiểu được các hình mẫu trong chuỗi thời gian, các mô hình đã nắm bắt được xu hướng ngày càng tăng trong chuỗi và đạt đến được RMSE thấp nhất cho đến hiện tại\n"
      ]
    },
    {
      "cell_type": "markdown",
      "metadata": {
        "id": "aTz-ZowUFZzG"
      },
      "source": [
        " Long Short Term Memory (LSTM)\n",
        "\n",
        "LSTM là một Recurrent Neural Network (tạm dịch: Mạng thần kinh tái phát) có thể lưu trữ những thông tin quan trọng trong quá khứ và quên đi những thông tin không quan trọng. Nó sử dụng các quy trình bộ nhớ ngắn hạn để tạo ra bộ nhớ dài hơn và giới thiệu khái niệm về cổng để kiểm soát luồng thông tin trong mạng lưới bằng cách có cơ chế cổng đầu vào, đầu ra và cổng quên."
      ]
    },
    {
      "cell_type": "code",
      "execution_count": null,
      "metadata": {
        "colab": {
          "base_uri": "https://localhost:8080/",
          "height": 450
        },
        "id": "bOY9v6UlGF1U",
        "outputId": "8b0cb443-7b5f-4889-f922-81b087f2b604"
      },
      "outputs": [
        {
          "data": {
            "text/html": [
              "<div>\n",
              "<style scoped>\n",
              "    .dataframe tbody tr th:only-of-type {\n",
              "        vertical-align: middle;\n",
              "    }\n",
              "\n",
              "    .dataframe tbody tr th {\n",
              "        vertical-align: top;\n",
              "    }\n",
              "\n",
              "    .dataframe thead th {\n",
              "        text-align: right;\n",
              "    }\n",
              "</style>\n",
              "<table border=\"1\" class=\"dataframe\">\n",
              "  <thead>\n",
              "    <tr style=\"text-align: right;\">\n",
              "      <th></th>\n",
              "      <th>Adj Close</th>\n",
              "    </tr>\n",
              "    <tr>\n",
              "      <th>Date</th>\n",
              "      <th></th>\n",
              "    </tr>\n",
              "  </thead>\n",
              "  <tbody>\n",
              "    <tr>\n",
              "      <th>2010-01-04</th>\n",
              "      <td>23.68</td>\n",
              "    </tr>\n",
              "    <tr>\n",
              "      <th>2010-01-05</th>\n",
              "      <td>23.69</td>\n",
              "    </tr>\n",
              "    <tr>\n",
              "      <th>2010-01-06</th>\n",
              "      <td>23.55</td>\n",
              "    </tr>\n",
              "    <tr>\n",
              "      <th>2010-01-07</th>\n",
              "      <td>23.30</td>\n",
              "    </tr>\n",
              "    <tr>\n",
              "      <th>2010-01-08</th>\n",
              "      <td>23.46</td>\n",
              "    </tr>\n",
              "    <tr>\n",
              "      <th>...</th>\n",
              "      <td>...</td>\n",
              "    </tr>\n",
              "    <tr>\n",
              "      <th>2023-01-03</th>\n",
              "      <td>239.58</td>\n",
              "    </tr>\n",
              "    <tr>\n",
              "      <th>2023-01-04</th>\n",
              "      <td>229.10</td>\n",
              "    </tr>\n",
              "    <tr>\n",
              "      <th>2023-01-05</th>\n",
              "      <td>222.31</td>\n",
              "    </tr>\n",
              "    <tr>\n",
              "      <th>2023-01-06</th>\n",
              "      <td>224.93</td>\n",
              "    </tr>\n",
              "    <tr>\n",
              "      <th>2023-01-09</th>\n",
              "      <td>227.12</td>\n",
              "    </tr>\n",
              "  </tbody>\n",
              "</table>\n",
              "<p>3277 rows × 1 columns</p>\n",
              "</div>"
            ],
            "text/plain": [
              "            Adj Close\n",
              "Date                 \n",
              "2010-01-04      23.68\n",
              "2010-01-05      23.69\n",
              "2010-01-06      23.55\n",
              "2010-01-07      23.30\n",
              "2010-01-08      23.46\n",
              "...               ...\n",
              "2023-01-03     239.58\n",
              "2023-01-04     229.10\n",
              "2023-01-05     222.31\n",
              "2023-01-06     224.93\n",
              "2023-01-09     227.12\n",
              "\n",
              "[3277 rows x 1 columns]"
            ]
          },
          "execution_count": 50,
          "metadata": {},
          "output_type": "execute_result"
        }
      ],
      "source": [
        "# Tạo DataFrame cho Giá đóng cửa điều chỉnh\n",
        "msft_adj = msft_df[['Adj Close']]\n",
        "msft_adj"
      ]
    },
    {
      "cell_type": "code",
      "execution_count": null,
      "metadata": {
        "id": "89nYALHAMI-T"
      },
      "outputs": [],
      "source": [
        "# Chuyển DataFrame thành numpy array\n",
        "msft_adj_arr = msft_adj.values"
      ]
    },
    {
      "cell_type": "markdown",
      "metadata": {
        "id": "N0VFwL-poO6w"
      },
      "source": [
        "### Split data thành train và test set"
      ]
    },
    {
      "cell_type": "code",
      "execution_count": null,
      "metadata": {
        "id": "0wk63ZsVKJ-L"
      },
      "outputs": [],
      "source": [
        "split = int(0.8*len(msft_adj_arr))"
      ]
    },
    {
      "cell_type": "code",
      "execution_count": null,
      "metadata": {
        "id": "hczUY8yYKU8N"
      },
      "outputs": [],
      "source": [
        "train, test = msft_adj_arr[:split], msft_adj_arr[split:]"
      ]
    },
    {
      "cell_type": "code",
      "execution_count": null,
      "metadata": {
        "colab": {
          "base_uri": "https://localhost:8080/"
        },
        "id": "PvaC5GTkOxHH",
        "outputId": "4a21bec2-c2d0-441d-a8d7-88a1302fc085"
      },
      "outputs": [
        {
          "data": {
            "text/plain": [
              "((2621, 1), (656, 1))"
            ]
          },
          "execution_count": 54,
          "metadata": {},
          "output_type": "execute_result"
        }
      ],
      "source": [
        "train.shape, test.shape"
      ]
    },
    {
      "cell_type": "markdown",
      "metadata": {
        "id": "vHSx6346ooGA"
      },
      "source": [
        "### Feature scaling (tạm dịch: Scaling trích chọn)\n",
        "\n",
        "Tiêu chuẩn hoá dữ liệu bằng cách scale dữ liệu thành định dạng từ 0 đến 1 để cải thiện việc học và tính hội tụ của mô hình."
      ]
    },
    {
      "cell_type": "code",
      "execution_count": null,
      "metadata": {
        "id": "fGIs-wEONN16"
      },
      "outputs": [],
      "source": [
        "# Scaling trích chọn và fit dữ liệu scale\n",
        "scaler = MinMaxScaler(feature_range=(0, 1))\n",
        "scaled_data = scaler.fit_transform(msft_adj_arr)"
      ]
    },
    {
      "cell_type": "markdown",
      "metadata": {
        "id": "WhKRZTBxr5gR"
      },
      "source": [
        "## Tạo dữ liệu training"
      ]
    },
    {
      "cell_type": "code",
      "execution_count": null,
      "metadata": {
        "colab": {
          "background_save": true
        },
        "id": "1wIrjhPbNlYC"
      },
      "outputs": [],
      "source": [
        "# Tạo cấu trúc dữ liệu với 60 time-steps và 1 output\n",
        "# X_train chứa các mẫu huấn luyện\n",
        "# y_train giá trị mục tiêu (labels)\n",
        "X_train, y_train = [], []\n",
        "for i in range(60, len(train)):\n",
        "    X_train.append(scaled_data[i-60:i,0])\n",
        "    y_train.append(scaled_data[i,0])"
      ]
    },
    {
      "cell_type": "code",
      "execution_count": null,
      "metadata": {
        "id": "FGWNCq2yOMzJ"
      },
      "outputs": [],
      "source": [
        "# Chuyển X_train và y_train thành numpy arrays cho mô hình LSTM training\n",
        "\n",
        "X_train, y_train = np.array(X_train), np.array(y_train)"
      ]
    },
    {
      "cell_type": "code",
      "execution_count": null,
      "metadata": {
        "colab": {
          "base_uri": "https://localhost:8080/"
        },
        "id": "gxK1Vf0yWvvm",
        "outputId": "6252f5f0-c208-4001-e784-874b77f33ecc"
      },
      "outputs": [
        {
          "data": {
            "text/plain": [
              "(2561, 60, 1)"
            ]
          },
          "execution_count": 58,
          "metadata": {},
          "output_type": "execute_result"
        }
      ],
      "source": [
        "# Chuyển dạng dữ liệu thành 3D theo định dạng yêu cầu của LSTM (samples, time steps, features)\n",
        "\n",
        "X_train = np.reshape(X_train, (X_train.shape[0], X_train.shape[1], 1))\n",
        "X_train.shape"
      ]
    },
    {
      "cell_type": "markdown",
      "metadata": {
        "id": "CXwvG8WnsAt_"
      },
      "source": [
        "### Tạo và train model\n",
        "\n",
        "Chúng ta sẽ triển khai một mô hình đơn giản bao gồm một lớp ẩn với 50 nơ-ron, hình dạng dữ liệu đầu vào với số bước thời gian (number of time steps) là (60) và số chiều (dimensionality) là (1) và một lớp đầu ra với bước thời gian là 1. Mô hình sẽ được biên dịch bằng Mean Squared Error (MSE) và trình tối ưu hóa ADAM (Adaptive Moment Estimation), sau đó sẽ được fit với training set với một epoch và batch size là một."
      ]
    },
    {
      "cell_type": "code",
      "execution_count": null,
      "metadata": {
        "colab": {
          "base_uri": "https://localhost:8080/"
        },
        "id": "Aphvhg6JOeVT",
        "outputId": "c6cf7b18-b1fe-418b-d9cd-ef402a8fca43"
      },
      "outputs": [
        {
          "name": "stdout",
          "output_type": "stream",
          "text": [
            "2561/2561 - 30s - loss: 2.1690e-04 - 30s/epoch - 12ms/step\n"
          ]
        }
      ],
      "source": [
        "# Tạo và fit mạng LSTM\n",
        "model = Sequential()\n",
        "model.add(LSTM(units=50, return_sequences=True, input_shape=(X_train.shape[1],1)))\n",
        "model.add(LSTM(units=50))\n",
        "model.add(Dense(1))\n",
        "\n",
        "model.compile(loss='mean_squared_error', optimizer='adam')\n",
        "model.fit(X_train, y_train, epochs=1, batch_size=1, verbose=2)\n",
        "\n",
        "# Dự đoán 504 giá trị, sự dụng 60 từ tập data train\n",
        "inputs = msft_adj_arr [len(msft_adj_arr) - len(test) - 60:]\n",
        "inputs = inputs.reshape(-1,1)\n",
        "inputs  = scaler.transform(inputs)"
      ]
    },
    {
      "cell_type": "markdown",
      "metadata": {
        "id": "yMs-HZgcuxKC"
      },
      "source": [
        "### Tạo test set và test"
      ]
    },
    {
      "cell_type": "code",
      "execution_count": null,
      "metadata": {
        "id": "YiWIkCXePU2l",
        "outputId": "02475404-bcc9-4cd3-f373-8145b0ec7958"
      },
      "outputs": [
        {
          "name": "stdout",
          "output_type": "stream",
          "text": [
            "21/21 [==============================] - 1s 8ms/step\n"
          ]
        }
      ],
      "source": [
        "# Tạo test data set\n",
        "X_test = []\n",
        "for i in range(60,inputs.shape[0]):\n",
        "    X_test.append(inputs[i-60:i,0])\n",
        "\n",
        "# Chuyển data thành numpy array\n",
        "X_test = np.array(X_test)\n",
        "\n",
        "# Chuyển data thành 3-D\n",
        "X_test = np.reshape(X_test, (X_test.shape[0],X_test.shape[1],1))\n",
        "adj_closing_price = model.predict(X_test)\n",
        "adj_closing_price = scaler.inverse_transform(adj_closing_price)"
      ]
    },
    {
      "cell_type": "code",
      "execution_count": null,
      "metadata": {
        "colab": {
          "base_uri": "https://localhost:8080/"
        },
        "id": "uLl8Gn95QYQY",
        "outputId": "2d1dfe8f-9aea-42d3-de5a-3d7a8c3b3643"
      },
      "outputs": [
        {
          "name": "stdout",
          "output_type": "stream",
          "text": [
            "(656, 60, 1)\n"
          ]
        }
      ],
      "source": [
        "print(X_test.shape)"
      ]
    },
    {
      "cell_type": "markdown",
      "metadata": {
        "id": "AaYvE3lxu6an"
      },
      "source": [
        "### Tính chỉ số RMSE"
      ]
    },
    {
      "cell_type": "code",
      "execution_count": null,
      "metadata": {
        "colab": {
          "base_uri": "https://localhost:8080/"
        },
        "id": "ly_k7NpMP3nb",
        "outputId": "0fa04425-cca1-4f1f-e04b-0fb6a9bb5357"
      },
      "outputs": [
        {
          "data": {
            "text/plain": [
              "6.650146577279944"
            ]
          },
          "execution_count": 62,
          "metadata": {},
          "output_type": "execute_result"
        }
      ],
      "source": [
        "rmse = np.sqrt(np.mean(np.power((test - adj_closing_price),2)))\n",
        "rmse"
      ]
    },
    {
      "cell_type": "markdown",
      "metadata": {
        "id": "lrLexq0Bvgfr"
      },
      "source": [
        "### Trực quan hóa các dữ liệu dự đoán và thực tế"
      ]
    },
    {
      "cell_type": "code",
      "execution_count": null,
      "metadata": {
        "colab": {
          "base_uri": "https://localhost:8080/",
          "height": 618
        },
        "id": "C-AJMju9QoXy",
        "outputId": "ec1e38e4-c60e-42d2-8adb-2671a72bd5c3"
      },
      "outputs": [
        {
          "data": {
            "image/png": "[encoded data removed]",
            "text/plain": [
              "<Figure size 2000x1000 with 1 Axes>"
            ]
          },
          "metadata": {},
          "output_type": "display_data"
        }
      ],
      "source": [
        "# Plot thông số dự đoán và thực tế\n",
        "train = msft_adj[:split]\n",
        "test = msft_adj[split:]\n",
        "test['Predictions'] = adj_closing_price\n",
        "\n",
        "plt.figure(figsize=(20,10))\n",
        "sns.set_style(\"whitegrid\")\n",
        "plt.plot(train['Adj Close'], label='Training')\n",
        "plt.plot(test['Adj Close'], label='Actual')\n",
        "plt.plot(test['Predictions'], label='Predicted')\n",
        "plt.title(\"Microsoft giá đóng cửa điều chỉnh - LSTM\", color = 'black', fontsize = 20)\n",
        "plt.xlabel('Năm', color = 'black', fontsize = 15)\n",
        "plt.ylabel('Giá chứng khoán', color = 'black', fontsize = 15)\n",
        "plt.legend();"
      ]
    },
    {
      "cell_type": "markdown",
      "metadata": {
        "id": "fp4m1C9nv4o4"
      },
      "source": [
        "Mô hình LSTM đã đạt được giá trị RMSE thấp nhất và dự đoán chính xác nhất. Dù rằng đây chỉ là một mô hình deep learning cơ bản song chúng ta có thể tiếp tục điều chỉnh nhiều tham số khác nhau, nhiều lớp có thể được thêm vào với các tính năng để chuẩn hóa và tăng số lượng epochs để mô hình có tính hội tụ tốt hơn."
      ]
    }
  ],
  "metadata": {
    "colab": {
      "collapsed_sections": [
        "aTz-ZowUFZzG"
      ],
      "provenance": []
    },
    "kernelspec": {
      "display_name": "Python 3 (ipykernel)",
      "language": "python",
      "name": "python3"
    },
    "language_info": {
      "codemirror_mode": {
        "name": "ipython",
        "version": 3
      },
      "file_extension": ".py",
      "mimetype": "text/x-python",
      "name": "python",
      "nbconvert_exporter": "python",
      "pygments_lexer": "ipython3",
      "version": "3.9.13"
    }
  },
  "nbformat": 4,
  "nbformat_minor": 0
}